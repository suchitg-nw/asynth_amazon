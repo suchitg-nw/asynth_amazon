{
 "cells": [
  {
   "cell_type": "code",
   "execution_count": 1,
   "id": "0fb410ca-8eae-4379-9a5d-fab53aa91aa8",
   "metadata": {},
   "outputs": [
    {
     "data": {
      "text/plain": [
       "True"
      ]
     },
     "execution_count": 1,
     "metadata": {},
     "output_type": "execute_result"
    }
   ],
   "source": [
    "import json\n",
    "import os\n",
    "\n",
    "from agent_prompts import customer_sys_prompt, support_agent_sys_prompt\n",
    "from autogen import ConversableAgent\n",
    "from dotenv import load_dotenv\n",
    "\n",
    "load_dotenv()"
   ]
  },
  {
   "cell_type": "code",
   "execution_count": 2,
   "id": "7187a15f-4bee-4139-966f-43a5b17abe42",
   "metadata": {},
   "outputs": [],
   "source": [
    "llm_config = {\n",
    "    \"config_list\": [\n",
    "        {\n",
    "            \"model\": \"gpt-4o-mini\",\n",
    "            \"api_key\": os.getenv(\"OPENAI_API_KEY\"),\n",
    "            \"price\": [0.000150, 0.000600],\n",
    "            \"cache_seed\": None,\n",
    "        }\n",
    "    ]\n",
    "}"
   ]
  },
  {
   "cell_type": "code",
   "execution_count": 3,
   "id": "7273392f-2600-4ef6-a77c-f10922c1a0f4",
   "metadata": {},
   "outputs": [],
   "source": [
    "def create_agent(\n",
    "    name: str,\n",
    "    sys_prompt: str,\n",
    "    human_input_mode: str,\n",
    "    termination_msg: str | None = None,\n",
    "):\n",
    "    return ConversableAgent(\n",
    "        name=name,\n",
    "        system_message=sys_prompt,\n",
    "        is_termination_msg=lambda msg: termination_msg in msg[\"content\"]\n",
    "        if termination_msg\n",
    "        else None,\n",
    "        human_input_mode=human_input_mode,\n",
    "        llm_config=llm_config,\n",
    "    )"
   ]
  },
  {
   "cell_type": "code",
   "execution_count": 4,
   "id": "16bbeb11-fae7-47db-8d32-fc634261ff66",
   "metadata": {},
   "outputs": [],
   "source": [
    "def process_queries(queries: dict[str, str | list[str]]):\n",
    "    guidelines = queries[\"guidelines\"]\n",
    "    f = open(\"convo.txt\", \"a\")\n",
    "    for i, query in enumerate(queries[\"customer_queries\"]):\n",
    "        if i == 3:\n",
    "            break\n",
    "        customer_agent = create_agent(\n",
    "            \"Customer\",\n",
    "            customer_sys_prompt.format(guidelines=guidelines),\n",
    "            \"NEVER\",\n",
    "            \"RESOLVED\",\n",
    "        )\n",
    "        support_agent = create_agent(\n",
    "            \"Support_Agent\", support_agent_sys_prompt, \"NEVER\", \"RESOLVED\"\n",
    "        )\n",
    "        chat_result = customer_agent.initiate_chat(support_agent, message=query)\n",
    "        print(chat_result.chat_history, file=f)\n",
    "        f.write(\"\\n\\n\")\n",
    "    f.close()\n"
   ]
  },
  {
   "cell_type": "code",
   "execution_count": 5,
   "id": "50a8a2d2-f8a3-4905-8832-c21e2f542b72",
   "metadata": {},
   "outputs": [],
   "source": [
    "# with open(\"../query_gen/queries.jsonl\", \"r\") as f:\n",
    "#     for line in f:\n",
    "#         queries = json.loads(line)\n",
    "#         process_queries(queries)\n",
    "#         break"
   ]
  },
  {
   "cell_type": "code",
   "execution_count": 14,
   "id": "8b4274ed-fa2c-4ed5-940a-052c2681612c",
   "metadata": {
    "scrolled": true
   },
   "outputs": [
    {
     "name": "stdout",
     "output_type": "stream",
     "text": [
      "[autogen.oai.client: 09-24 15:52:56] {184} WARNING - The API key specified is not a valid OpenAI format; it won't work with the OpenAI-hosted model.\n",
      "[autogen.oai.client: 09-24 15:52:56] {184} WARNING - The API key specified is not a valid OpenAI format; it won't work with the OpenAI-hosted model.\n",
      "\u001b[33mCustomer\u001b[0m (to Support_Agent):\n",
      "\n",
      "1. How am I supposed to know if I can exchange my old appliance for a new one? This should be clear already.\n",
      "\n",
      "--------------------------------------------------------------------------------\n",
      "\u001b[33mSupport_Agent\u001b[0m (to Customer):\n",
      "\n",
      "Hello! I completely understand your frustration, and I’m here to help. To find out if you can exchange your old appliance for a new one, it typically depends on the specific appliance and the seller’s return/exchange policy.\n",
      "\n",
      "Could you please provide me with the name of the appliance you’re considering exchanging? That way, I can give you more precise information on your options. Thank you for your patience!\n",
      "\n",
      "--------------------------------------------------------------------------------\n",
      "\u001b[33mCustomer\u001b[0m (to Support_Agent):\n",
      "\n",
      "I'm looking at exchanging my old microwave for a newer model. Can you check if that's possible and what the specific policy is? It's frustrating not having clear guidance on this.\n",
      "\n",
      "--------------------------------------------------------------------------------\n",
      "\u001b[33mSupport_Agent\u001b[0m (to Customer):\n",
      "\n",
      "I totally understand how that can be frustrating, and I appreciate your patience! While Amazon allows returns and exchanges for many items, the ability to exchange your old microwave for a new one may vary by seller and specific promotional offers.\n",
      "\n",
      "If the new microwave you're interested in is part of a specific trade-in or exchange program, please check the product listing for details regarding any exchange offers. Alternatively, you can also look into our Trade-In program, where you might send in your old appliance for store credit.\n",
      "\n",
      "Could you tell me which new microwave you're looking at? I can assist you in checking more specific information regarding that model and any available promotions. Thank you again for reaching out!\n",
      "\n",
      "--------------------------------------------------------------------------------\n",
      "\u001b[33mCustomer\u001b[0m (to Support_Agent):\n",
      "\n",
      "I'm considering the Toshiba 1.2 Cu. Ft. Microwave, model EM131A5C-SS. I really need to know if I can trade in my old one for this model or if there are any promotions that would help me out. \n",
      "\n",
      "--------------------------------------------------------------------------------\n",
      "\u001b[33mSupport_Agent\u001b[0m (to Customer):\n",
      "\n",
      "Thank you for providing the model information! To determine if you can trade in your old microwave for the Toshiba 1.2 Cu. Ft. Microwave (model EM131A5C-SS), you’ll want to check the specific product page for any trade-in or promotional offers. \n",
      "\n",
      "Currently, there might not be a direct trade-in program for microwaves, but you could look for any promotions involving discounts or rebates available on the product page. \n",
      "\n",
      "If you don’t see any details there, another option is to check our Trade-In program, which sometimes accepts specific small appliances for credit.\n",
      "\n",
      "If you'd like, I can also guide you on how to navigate through the product page or the Trade-In program. Just let me know! Thanks again for your understanding, and I'm here to help!\n",
      "\n",
      "--------------------------------------------------------------------------------\n",
      "\u001b[33mCustomer\u001b[0m (to Support_Agent):\n",
      "\n",
      "I appreciate the information, but it just feels too complicated. I really just want to know for sure if I can get something for my old microwave. Can you verify if the Trade-In program is accepting microwaves at the moment? It would be nice to just have a clear answer on that.\n",
      "\n",
      "--------------------------------------------------------------------------------\n",
      "\u001b[33mSupport_Agent\u001b[0m (to Customer):\n",
      "\n",
      "I completely understand how important it is to have clear and straightforward information, and I appreciate your patience! Currently, the Amazon Trade-In program primarily accepts items like electronics, books, and video games. As of now, it typically does not include small appliances like microwaves.\n",
      "\n",
      "For the best options on recycling or disposing of your old microwave, I recommend checking your local recycling program or appliance retailers, as some may offer appliance recycling services.\n",
      "\n",
      "If you need help with any other aspect of your purchase or product information, feel free to ask! Thank you for choosing Amazon, and I'm here to assist you further if needed!\n",
      "\n",
      "--------------------------------------------------------------------------------\n",
      "\u001b[33mCustomer\u001b[0m (to Support_Agent):\n",
      "\n",
      "So basically, I can’t trade in my old microwave through Amazon at all? That’s really frustrating. Are there any other options or recommendations for how I can get rid of my old microwave that you can suggest?\n",
      "\n",
      "--------------------------------------------------------------------------------\n",
      "\u001b[33mSupport_Agent\u001b[0m (to Customer):\n",
      "\n",
      "I completely understand your frustration, and I'm here to help you with alternatives! Since the Trade-In program doesn’t accept microwaves, here are some other options for disposing of your old appliance:\n",
      "\n",
      "1. **Local Recycling Centers**: Many communities have recycling centers that accept small appliances. You can check with your local waste management department for information on where to recycle your microwave.\n",
      "\n",
      "2. **Donation**: If your microwave is still in good working condition, consider donating it to a local charity, shelters, or community centers. They often appreciate functional appliances.\n",
      "\n",
      "3. **Bulk Waste Pickup**: Some municipalities offer bulk waste pickup services for larger items. You can contact your local sanitation department to find out if this is an option.\n",
      "\n",
      "4. **Retail Take-Back Programs**: Some retailers that sell appliances might have take-back programs when you purchase a new item from them. It’s worth asking when you make your new purchase.\n",
      "\n",
      "I hope one of these options works for you! If you have any more questions or need further assistance, just let me know. Thank you again for your understanding!\n",
      "\n",
      "--------------------------------------------------------------------------------\n",
      "\u001b[33mCustomer\u001b[0m (to Support_Agent):\n",
      "\n",
      "Thanks for the suggestions. I’ll look into those options. It’s just disheartening that there’s no straightforward trade-in for my microwave. I appreciate your help, though.\n",
      "\n",
      "RESOLVED\n",
      "\n",
      "--------------------------------------------------------------------------------\n"
     ]
    }
   ],
   "source": [
    "f = open(\"../query_gen/queries.jsonl\", 'r')\n",
    "for line in f:\n",
    "    f = open(\"convo.txt\", \"a\")\n",
    "    queries = json.loads(line)\n",
    "    guidelines = open(f\"/home/suchitg/amazon_help/leafdirs/{queries['title']}/t.txt\", \"r\").read()\n",
    "    if queries[\"tone\"] != \"annoyed\":\n",
    "        continue\n",
    "    for i, query in enumerate(queries[\"customer_queries\"]):\n",
    "        # if i == 3:\n",
    "        #     break\n",
    "        customer_agent = create_agent(\n",
    "            \"Customer\",\n",
    "            customer_sys_prompt.format(guidelines=guidelines),\n",
    "            \"NEVER\",\n",
    "            \"RESOLVED\",\n",
    "        )\n",
    "        support_agent = create_agent(\n",
    "            \"Support_Agent\", support_agent_sys_prompt, \"NEVER\", \"RESOLVED\"\n",
    "        )\n",
    "        chat_result = customer_agent.initiate_chat(support_agent, message=query)\n",
    "        out_json = {\n",
    "            \"title\": queries[\"title\"], \n",
    "            \"tone\": queries[\"tone\"],\n",
    "            \"style\": queries[\"style\"],\n",
    "            \"conversation\": chat_result.chat_history\n",
    "        }\n",
    "        json.dump(out_json, open(\"./convo.jsonl\", 'a'))\n",
    "        open(\"./convo.jsonl\", 'a').write('\\n')\n",
    "        break\n",
    "    break"
   ]
  },
  {
   "cell_type": "code",
   "execution_count": null,
   "id": "c377d799-cc13-4650-b753-9d62aa227f7d",
   "metadata": {},
   "outputs": [],
   "source": []
  },
  {
   "cell_type": "code",
   "execution_count": null,
   "id": "fa3282be-75d3-4740-af50-d5712a2c932f",
   "metadata": {},
   "outputs": [],
   "source": []
  }
 ],
 "metadata": {
  "kernelspec": {
   "display_name": "Python 3 (ipykernel)",
   "language": "python",
   "name": "python3"
  },
  "language_info": {
   "codemirror_mode": {
    "name": "ipython",
    "version": 3
   },
   "file_extension": ".py",
   "mimetype": "text/x-python",
   "name": "python",
   "nbconvert_exporter": "python",
   "pygments_lexer": "ipython3",
   "version": "3.12.6"
  }
 },
 "nbformat": 4,
 "nbformat_minor": 5
}
