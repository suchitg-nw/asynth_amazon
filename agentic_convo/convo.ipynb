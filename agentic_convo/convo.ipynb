{
 "cells": [
  {
   "cell_type": "code",
   "execution_count": 1,
   "id": "0fb410ca-8eae-4379-9a5d-fab53aa91aa8",
   "metadata": {},
   "outputs": [
    {
     "data": {
      "text/plain": [
       "True"
      ]
     },
     "execution_count": 1,
     "metadata": {},
     "output_type": "execute_result"
    }
   ],
   "source": [
    "import json\n",
    "import os\n",
    "\n",
    "from agent_prompts import customer_sys_prompt, support_agent_sys_prompt\n",
    "from autogen import ConversableAgent\n",
    "from dotenv import load_dotenv\n",
    "\n",
    "load_dotenv()"
   ]
  },
  {
   "cell_type": "code",
   "execution_count": 2,
   "id": "7187a15f-4bee-4139-966f-43a5b17abe42",
   "metadata": {},
   "outputs": [],
   "source": [
    "llm_config = {\n",
    "    \"config_list\": [\n",
    "        {\n",
    "            \"model\": \"gpt-4o-mini\",\n",
    "            \"api_key\": os.getenv(\"OPENAI_API_KEY\"),\n",
    "            \"price\": [0.000150, 0.000600],\n",
    "            \"cache_seed\": None,\n",
    "        }\n",
    "    ]\n",
    "}"
   ]
  },
  {
   "cell_type": "code",
   "execution_count": 3,
   "id": "7273392f-2600-4ef6-a77c-f10922c1a0f4",
   "metadata": {},
   "outputs": [],
   "source": [
    "def create_agent(\n",
    "    name: str,\n",
    "    sys_prompt: str,\n",
    "    human_input_mode: str,\n",
    "    termination_msg: str | None = None,\n",
    "):\n",
    "    return ConversableAgent(\n",
    "        name=name,\n",
    "        system_message=sys_prompt,\n",
    "        is_termination_msg=lambda msg: termination_msg in msg[\"content\"]\n",
    "        if termination_msg\n",
    "        else None,\n",
    "        human_input_mode=human_input_mode,\n",
    "        llm_config=llm_config,\n",
    "    )"
   ]
  },
  {
   "cell_type": "code",
   "execution_count": 4,
   "id": "16bbeb11-fae7-47db-8d32-fc634261ff66",
   "metadata": {},
   "outputs": [],
   "source": [
    "def process_queries(queries: dict[str, str | list[str]]):\n",
    "    guidelines = queries[\"guidelines\"]\n",
    "    f = open(\"convo.txt\", \"a\")\n",
    "    for i, query in enumerate(queries[\"customer_queries\"]):\n",
    "        if i == 3:\n",
    "            break\n",
    "        customer_agent = create_agent(\n",
    "            \"Customer\",\n",
    "            customer_sys_prompt.format(guidelines=guidelines),\n",
    "            \"NEVER\",\n",
    "            \"RESOLVED\",\n",
    "        )\n",
    "        support_agent = create_agent(\n",
    "            \"Support_Agent\", support_agent_sys_prompt, \"NEVER\", \"RESOLVED\"\n",
    "        )\n",
    "        chat_result = customer_agent.initiate_chat(support_agent, message=query)\n",
    "    f.close()\n"
   ]
  },
  {
   "cell_type": "code",
   "execution_count": 5,
   "id": "50a8a2d2-f8a3-4905-8832-c21e2f542b72",
   "metadata": {},
   "outputs": [],
   "source": [
    "# with open(\"../query_gen/queries.jsonl\", \"r\") as f:\n",
    "#     for line in f:\n",
    "#         queries = json.loads(line)\n",
    "#         process_queries(queries)\n",
    "#         break"
   ]
  },
  {
   "cell_type": "code",
   "execution_count": 6,
   "id": "8b4274ed-fa2c-4ed5-940a-052c2681612c",
   "metadata": {
    "scrolled": true
   },
   "outputs": [
    {
     "name": "stdout",
     "output_type": "stream",
     "text": [
      "[autogen.oai.client: 09-30 15:10:04] {184} WARNING - The API key specified is not a valid OpenAI format; it won't work with the OpenAI-hosted model.\n",
      "[autogen.oai.client: 09-30 15:10:04] {184} WARNING - The API key specified is not a valid OpenAI format; it won't work with the OpenAI-hosted model.\n",
      "\u001b[33mCustomer\u001b[0m (to Support_Agent):\n",
      "\n",
      "1. How on earth do I figure out if my old product is eligible for the exchange offer when buying a new one? This shouldn't be so complicated!\n",
      "\n",
      "--------------------------------------------------------------------------------\n",
      "\u001b[33mSupport_Agent\u001b[0m (to Customer):\n",
      "\n",
      "Hello! I completely understand how frustrating this can be, and I’m here to help you. To see if your old product is eligible for an exchange offer, you usually need to check the product details page on Amazon or refer to the specific exchange offer section. There, you’ll find information about any eligible trade-in products and the terms that apply.\n",
      "\n",
      "If you share the details of the product you’re considering, I can assist you further! Thank you for your patience and for choosing Amazon.\n",
      "\n",
      "--------------------------------------------------------------------------------\n",
      "\u001b[33mCustomer\u001b[0m (to Support_Agent):\n",
      "\n",
      "Thanks for the info! The product I'm thinking about exchanging is an old Kindle. Can you let me know if I can trade it in for a discount on a new one?\n",
      "\n",
      "--------------------------------------------------------------------------------\n",
      "\u001b[33mSupport_Agent\u001b[0m (to Customer):\n",
      "\n",
      "You're welcome! For trading in an old Kindle, it often qualifies for the Amazon Trade-In program, which can provide you with an Amazon gift card towards a new purchase. You can start by visiting the Trade-In section on Amazon, where you'll find specific eligibility criteria and a way to submit your old Kindle for assessment.\n",
      "\n",
      "If your Kindle qualifies, you’ll receive an estimate of its value. If you need any more details or assistance, feel free to ask! Thank you for choosing Amazon!\n",
      "\n",
      "--------------------------------------------------------------------------------\n",
      "\u001b[33mCustomer\u001b[0m (to Support_Agent):\n",
      "\n",
      "Alright, I'll check the Trade-In section for my Kindle. Hopefully, it qualifies! Thanks for your help. \n",
      "\n",
      "RESOLVED\n",
      "\n",
      "--------------------------------------------------------------------------------\n"
     ]
    }
   ],
   "source": [
    "f = open(\"../query_gen/tone_augmented.jsonl\", 'r')\n",
    "for line in f:\n",
    "    f = open(\"convo.txt\", \"a\")\n",
    "    queries = json.loads(line)\n",
    "    guidelines = open(f\"/home/suchitg/amazon_help/leafdirs/{queries['title']}/t.txt\", \"r\").read()\n",
    "    if queries[\"tone\"] != \"annoyed\":\n",
    "        continue\n",
    "    for i, query in enumerate(queries[\"customer_queries\"]):\n",
    "        customer_agent = create_agent(\n",
    "            \"Customer\",\n",
    "            customer_sys_prompt.format(guidelines=guidelines),\n",
    "            \"NEVER\",\n",
    "            \"RESOLVED\",\n",
    "        )\n",
    "        support_agent = create_agent(\n",
    "            \"Support_Agent\", support_agent_sys_prompt, \"NEVER\", \"RESOLVED\"\n",
    "        )\n",
    "        chat_result = customer_agent.initiate_chat(support_agent, message=query)\n",
    "        out_json = {\n",
    "            \"title\": queries[\"title\"], \n",
    "            \"tone\": queries[\"tone\"],\n",
    "            \"style\": queries[\"style\"],\n",
    "            \"conversation\": chat_result.chat_history\n",
    "        }\n",
    "        # json.dump(out_json, open(\"./convo.jsonl\", 'a'))\n",
    "        # open(\"./convo.jsonl\", 'a').write('\\n')\n",
    "        break\n",
    "    break"
   ]
  },
  {
   "cell_type": "code",
   "execution_count": 7,
   "id": "c377d799-cc13-4650-b753-9d62aa227f7d",
   "metadata": {},
   "outputs": [
    {
     "data": {
      "text/plain": [
       "5"
      ]
     },
     "execution_count": 7,
     "metadata": {},
     "output_type": "execute_result"
    }
   ],
   "source": [
    "len(chat_result.chat_history)"
   ]
  },
  {
   "cell_type": "code",
   "execution_count": null,
   "id": "fa3282be-75d3-4740-af50-d5712a2c932f",
   "metadata": {},
   "outputs": [],
   "source": []
  }
 ],
 "metadata": {
  "kernelspec": {
   "display_name": "Python 3 (ipykernel)",
   "language": "python",
   "name": "python3"
  },
  "language_info": {
   "codemirror_mode": {
    "name": "ipython",
    "version": 3
   },
   "file_extension": ".py",
   "mimetype": "text/x-python",
   "name": "python",
   "nbconvert_exporter": "python",
   "pygments_lexer": "ipython3",
   "version": "3.12.6"
  }
 },
 "nbformat": 4,
 "nbformat_minor": 5
}
