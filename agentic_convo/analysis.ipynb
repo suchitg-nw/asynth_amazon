{
 "cells": [
  {
   "cell_type": "code",
   "execution_count": 3,
   "id": "31e2267e-679a-4a8e-b993-08aaa817433d",
   "metadata": {
    "jupyter": {
     "source_hidden": true
    }
   },
   "outputs": [],
   "source": [
    "import numpy as np\n",
    "import matplotlib.pyplot as plt\n",
    "\n",
    "import json\n",
    "import nltk\n",
    "\n",
    "from pathlib import Path"
   ]
  },
  {
   "cell_type": "code",
   "execution_count": 15,
   "id": "d2dfd7dc-5821-4d44-aae0-f3690d72a664",
   "metadata": {},
   "outputs": [],
   "source": [
    "data_path = Path(\"conversation_data/\")\n",
    "query_convos = data_path / \"queries_convos.jsonl\"\n",
    "prd_convos = data_path / \"prd_convos.jsonl\"\n",
    "tone_aug_convos = data_path / \"tone_aug_convos.jsonl\"\n",
    "colloquial_convos = data_path / \"colloquial_convos.jsonl\"\n",
    "non_native_convos = data_path / \"non_native_convos.jsonl\"\n",
    "typo_convos = data_path / \"typo_convos.jsonl\"\n",
    "\n",
    "convo_paths = [query_convos, prd_convos, tone_aug_convos, colloquial_convos, non_native_convos, typo_convos]"
   ]
  },
  {
   "cell_type": "code",
   "execution_count": 3,
   "id": "455eaba1-0528-4e81-ac2d-ee11629e27f9",
   "metadata": {},
   "outputs": [],
   "source": [
    "OUTLIER_THRESHOLD: int = 30"
   ]
  },
  {
   "cell_type": "markdown",
   "id": "15964509-005b-4251-ac44-38d90e630a5d",
   "metadata": {},
   "source": [
    "# Outlier Conversations\n",
    "\n",
    "Here, we check for conversations whose length exceed the threshold value.\n",
    "Looking at these conversations, we see that the cause for this is that the agent strictly checks for \"RESOLVED\" or \"UNRESOLVED\" as the termination condition. And in these cases, the customer agent is outputting \"resolved\" which fails to trigger the termination condition. However, we see that this bug is not impacting our dataset much since the number of outlier conversations is trivial relative to the dataset size."
   ]
  },
  {
   "cell_type": "code",
   "execution_count": 4,
   "id": "a4100952-97db-4bcf-9bf0-a756a4e936b2",
   "metadata": {
    "jupyter": {
     "source_hidden": true
    }
   },
   "outputs": [],
   "source": [
    "def get_outliers(file_name: Path, threshold: int = OUTLIER_THRESHOLD) -> list[dict]:\n",
    "    \"\"\"Returns the outlier conversations in a conversation file.\"\"\"\n",
    "    len_stats = []\n",
    "    outliers = []\n",
    "    for line in open(file_name, 'r'):\n",
    "        convo = json.loads(line)\n",
    "        length = convo[\"length\"]\n",
    "        if length > threshold:\n",
    "            outliers.append(convo[\"conversation\"])\n",
    "    return outliers"
   ]
  },
  {
   "cell_type": "code",
   "execution_count": 5,
   "id": "b241fb63-953a-4a98-9878-c21e100600d3",
   "metadata": {},
   "outputs": [
    {
     "data": {
      "text/plain": [
       "101"
      ]
     },
     "execution_count": 5,
     "metadata": {},
     "output_type": "execute_result"
    }
   ],
   "source": [
    "len(get_outliers(query_convos, OUTLIER_THRESHOLD)[1])"
   ]
  },
  {
   "cell_type": "code",
   "execution_count": 6,
   "id": "a3dc10b9-d9f5-4181-8fab-066df7b485ee",
   "metadata": {
    "jupyter": {
     "source_hidden": true
    }
   },
   "outputs": [],
   "source": [
    "outlier_len = []\n",
    "for convo_file in convo_paths:\n",
    "    outliers = get_outliers(convo_file, 30)\n",
    "    for o in outliers:\n",
    "        outlier_len.append(len(o))"
   ]
  },
  {
   "cell_type": "code",
   "execution_count": 7,
   "id": "a29c30cd-3a4d-432d-88c9-80e4f36d7130",
   "metadata": {},
   "outputs": [
    {
     "data": {
      "text/plain": [
       "Text(0, 0.5, 'Frequency')"
      ]
     },
     "execution_count": 7,
     "metadata": {},
     "output_type": "execute_result"
    },
    {
     "data": {
      "image/png": "[encoded data removed]",
      "text/plain": [
       "<Figure size 640x480 with 1 Axes>"
      ]
     },
     "metadata": {},
     "output_type": "display_data"
    }
   ],
   "source": [
    "plt.hist(outlier_len);\n",
    "plt.xlabel(\"Conversation Length\")\n",
    "plt.ylabel(\"Frequency\")"
   ]
  },
  {
   "cell_type": "code",
   "execution_count": 8,
   "id": "f49ec190-a1ed-4e9d-ad16-7c58848055bd",
   "metadata": {},
   "outputs": [
    {
     "data": {
      "text/plain": [
       "35"
      ]
     },
     "execution_count": 8,
     "metadata": {},
     "output_type": "execute_result"
    }
   ],
   "source": [
    "len(outlier_len)"
   ]
  },
  {
   "cell_type": "markdown",
   "id": "8454ea01-cd79-48f2-8d52-a54c959e8d92",
   "metadata": {},
   "source": [
    "We see that the total number of outliers is 35 across the dataset of 14,000 conversations."
   ]
  },
  {
   "cell_type": "markdown",
   "id": "5ae31f43-62ae-47bd-ab5a-557c89e54829",
   "metadata": {},
   "source": [
    "# Conversation Length Distribution\n",
    "\n",
    "Here, we first show the conversation length distribution for one conversation file, and then the same analysis across the dataset."
   ]
  },
  {
   "cell_type": "code",
   "execution_count": 9,
   "id": "4cea7f76-f242-447d-a13c-82531929c58a",
   "metadata": {
    "jupyter": {
     "source_hidden": true
    }
   },
   "outputs": [],
   "source": [
    "def get_lengths(file_path: Path, consider_outliers: bool = False) -> list[int]:\n",
    "    \"\"\"Returns a list of lengths of all conversations in the given file.\"\"\"\n",
    "    lengths = []\n",
    "    for line in open(file_path, 'r'):\n",
    "        convo = json.loads(line)\n",
    "        length = convo[\"length\"]\n",
    "        if not consider_outliers and length > OUTLIER_THRESHOLD:\n",
    "            continue\n",
    "        lengths.append(convo[\"length\"])\n",
    "    return lengths"
   ]
  },
  {
   "cell_type": "code",
   "execution_count": 10,
   "id": "6509c5c6-429e-43fd-a1f6-729f7a3e896f",
   "metadata": {
    "jupyter": {
     "source_hidden": true
    }
   },
   "outputs": [],
   "source": [
    "convo_lengths = []\n",
    "convo_lengths.extend(\n",
    "    get_lengths(query_convos)\n",
    ")"
   ]
  },
  {
   "cell_type": "code",
   "execution_count": 11,
   "id": "c9bf1dee-e748-40ff-9b98-73d8c6d3770c",
   "metadata": {},
   "outputs": [
    {
     "data": {
      "text/plain": [
       "Text(0, 0.5, 'Frequency')"
      ]
     },
     "execution_count": 11,
     "metadata": {},
     "output_type": "execute_result"
    },
    {
     "data": {
      "image/png": "[encoded data removed]",
      "text/plain": [
       "<Figure size 640x480 with 1 Axes>"
      ]
     },
     "metadata": {},
     "output_type": "display_data"
    }
   ],
   "source": [
    "plt.hist(convo_lengths);\n",
    "plt.xlabel(\"Conversation Length\")\n",
    "plt.ylabel(\"Frequency\")"
   ]
  },
  {
   "cell_type": "code",
   "execution_count": 12,
   "id": "a498fe2b-6abd-411a-a9cc-da06a00612dc",
   "metadata": {
    "jupyter": {
     "source_hidden": true
    }
   },
   "outputs": [],
   "source": [
    "convo_lengths = []\n",
    "for convo_file in convo_paths:\n",
    "    convo_lengths.extend(\n",
    "        get_lengths(convo_file)\n",
    "    )"
   ]
  },
  {
   "cell_type": "code",
   "execution_count": 13,
   "id": "4e9a4cf1-dff1-4a73-ab48-8e67a6871f94",
   "metadata": {
    "scrolled": true
   },
   "outputs": [
    {
     "data": {
      "text/plain": [
       "Text(0, 0.5, 'Frequency')"
      ]
     },
     "execution_count": 13,
     "metadata": {},
     "output_type": "execute_result"
    },
    {
     "data": {
      "image/png": "[encoded data removed]",
      "text/plain": [
       "<Figure size 640x480 with 1 Axes>"
      ]
     },
     "metadata": {},
     "output_type": "display_data"
    }
   ],
   "source": [
    "plt.hist(convo_lengths);\n",
    "plt.xlabel(\"Conversation Length\")\n",
    "plt.ylabel(\"Frequency\")"
   ]
  },
  {
   "cell_type": "code",
   "execution_count": 14,
   "id": "87de6d2e-93e5-4660-aef9-f4246c01fdbe",
   "metadata": {},
   "outputs": [
    {
     "data": {
      "text/plain": [
       "(7.0, 7.916393758428049)"
      ]
     },
     "execution_count": 14,
     "metadata": {},
     "output_type": "execute_result"
    }
   ],
   "source": [
    "np.median(convo_lengths), np.mean(convo_lengths)"
   ]
  },
  {
   "cell_type": "markdown",
   "id": "901be31f-e277-4d8a-b0f3-3837dc24739a",
   "metadata": {},
   "source": [
    "We see that the median length of conversations is 7 and mean length 7.9 or ~8."
   ]
  },
  {
   "cell_type": "markdown",
   "id": "2603ba91-2555-4d72-9aa6-925188709440",
   "metadata": {},
   "source": [
    "# Resolution Status Analysis\n",
    "\n",
    "Here, we analyse the distribution of the resolution status of conversations.\n",
    "\n",
    "**Background**: The conversations are naturally led to resolve or stay unresolved without any explicit prompting to directly influence the resolution status."
   ]
  },
  {
   "cell_type": "code",
   "execution_count": 15,
   "id": "25ebdba9-5d5e-4fad-8966-2ab10f091bbd",
   "metadata": {
    "jupyter": {
     "source_hidden": true
    }
   },
   "outputs": [],
   "source": [
    "def get_resolution_stat(file_path: Path) -> tuple[int, int]:\n",
    "    \"\"\"Returns a tuple containing number of resolved and unresolved conversations respectively.\"\"\"\n",
    "    resolved_count = 0\n",
    "    unresolved_count = 0\n",
    "    for line in open(file_path, 'r'):\n",
    "        convo = json.loads(line)\n",
    "        if convo[\"status\"] == \"RESOLVED\":\n",
    "            resolved_count += 1\n",
    "        else:\n",
    "            unresolved_count += 1\n",
    "    return resolved_count, unresolved_count"
   ]
  },
  {
   "cell_type": "code",
   "execution_count": 16,
   "id": "44189243-9952-407e-a55a-baaee7b7d242",
   "metadata": {},
   "outputs": [
    {
     "name": "stdout",
     "output_type": "stream",
     "text": [
      "     queries_convos.jsonl | Resolved:  620 | Unresolved:   95 | Resolved percentage: 86.71%\n",
      "         prd_convos.jsonl | Resolved:  519 | Unresolved:   69 | Resolved percentage: 88.27%\n",
      "    tone_aug_convos.jsonl | Resolved: 1599 | Unresolved: 1004 | Resolved percentage: 61.43%\n",
      "  colloquial_convos.jsonl | Resolved: 3000 | Unresolved:  898 | Resolved percentage: 76.96%\n",
      "  non_native_convos.jsonl | Resolved: 2583 | Unresolved: 1316 | Resolved percentage: 66.25%\n",
      "        typo_convos.jsonl | Resolved: 2627 | Unresolved: 1278 | Resolved percentage: 67.27%\n"
     ]
    }
   ],
   "source": [
    "resolved_percentages = []\n",
    "for convo_file in convo_paths:\n",
    "    r, u = get_resolution_stat(convo_file)\n",
    "    resolved_percentages.append(r/(r+u) * 100)\n",
    "    print(\"%25s | Resolved: %4s | Unresolved: %4s | Resolved percentage: %.2f%%\" % (\\\n",
    "        str(convo_file).split('/')[-1],\n",
    "        r,\n",
    "        u,\n",
    "        resolved_percentages[-1]\n",
    "    ))"
   ]
  },
  {
   "cell_type": "code",
   "execution_count": 17,
   "id": "9d4437af-303d-4f82-9ad4-cf88c125b9f2",
   "metadata": {},
   "outputs": [
    {
     "data": {
      "text/plain": [
       "(10.294748379169206, 74.4817901806634)"
      ]
     },
     "execution_count": 17,
     "metadata": {},
     "output_type": "execute_result"
    }
   ],
   "source": [
    "np.std(resolved_percentages), np.mean(resolved_percentages)"
   ]
  },
  {
   "cell_type": "markdown",
   "id": "d3398cb9-adcd-4f74-814c-af29a4ad7535",
   "metadata": {},
   "source": [
    "From the standard deviation, we see that the resolution percentages deviate by 10% at maximum and have a mean of ~74.48."
   ]
  },
  {
   "cell_type": "markdown",
   "id": "e04c187e-3f2c-4aa1-a5c0-d7ec0dae0254",
   "metadata": {},
   "source": [
    "# Error Rates\n",
    "\n",
    "Some LLM calls failed due to lack of a retry mechanism. This little exercise captures that."
   ]
  },
  {
   "cell_type": "code",
   "execution_count": 18,
   "id": "5251d617-1691-4628-aac8-35237a6a21c5",
   "metadata": {},
   "outputs": [],
   "source": [
    "def get_num_errors(file_path: Path) -> int:\n",
    "    \"\"\"Returns the number of errors in the conversation file.\"\"\"\n",
    "    num_errors = 0\n",
    "    for line in open(file_path, 'r'):\n",
    "        convo = json.loads(line)\n",
    "        if convo[\"status\"] == \"ERROR\":\n",
    "            num_errors += 1\n",
    "    return num_errors"
   ]
  },
  {
   "cell_type": "code",
   "execution_count": 19,
   "id": "486850a4-bfbf-4d4f-96dd-707e68aa751d",
   "metadata": {},
   "outputs": [],
   "source": [
    "num_errors = 0\n",
    "for convo_file in convo_paths:\n",
    "    num_errors += get_num_errors(convo_file)"
   ]
  },
  {
   "cell_type": "code",
   "execution_count": 20,
   "id": "907e521a-6355-4014-a133-3a782462efcc",
   "metadata": {},
   "outputs": [
    {
     "data": {
      "text/plain": [
       "29"
      ]
     },
     "execution_count": 20,
     "metadata": {},
     "output_type": "execute_result"
    }
   ],
   "source": [
    "num_errors"
   ]
  },
  {
   "cell_type": "markdown",
   "id": "5739dd51-ee4b-482e-ab9c-2dc4e3b1337e",
   "metadata": {},
   "source": [
    "We have 29 calls across the 14k conversations that have failed which is very tiny in comparison."
   ]
  },
  {
   "cell_type": "markdown",
   "id": "272c7394-1e16-45d6-9d99-f764a1de9b58",
   "metadata": {},
   "source": [
    "## Product Augmentations Analysis\n",
    "\n",
    "Here, we show the products used for augmentation and also the number of queries having various products."
   ]
  },
  {
   "cell_type": "code",
   "execution_count": 34,
   "id": "73cc5264-b701-4c2f-bef2-f3a78e2fc6c9",
   "metadata": {},
   "outputs": [],
   "source": [
    "products = \"smartphone, laptop, washing machine, microwave oven, smart watch, camera\".split(\", \")"
   ]
  },
  {
   "cell_type": "code",
   "execution_count": 35,
   "id": "83944d99-eace-469e-858a-a1bb87780900",
   "metadata": {
    "jupyter": {
     "source_hidden": true
    }
   },
   "outputs": [],
   "source": [
    "def get_counts(product: str, fname: Path):\n",
    "    count = 0\n",
    "    for line in open(fname, 'r'):\n",
    "        convo = json.loads(line)\n",
    "        if product in str(convo[\"conversation\"]): count += 1\n",
    "    return count"
   ]
  },
  {
   "cell_type": "code",
   "execution_count": 36,
   "id": "606bbb5e-25a1-449c-976d-381078d3c811",
   "metadata": {},
   "outputs": [],
   "source": [
    "counts = []\n",
    "for product in products:\n",
    "    counts.append(0)\n",
    "    for convo_file in convo_paths:\n",
    "        counts[-1] += get_counts(product, convo_file)"
   ]
  },
  {
   "cell_type": "code",
   "execution_count": 37,
   "id": "67879108-8e9a-4641-93ae-17af750b265a",
   "metadata": {},
   "outputs": [
    {
     "data": {
      "text/plain": [
       "[1242, 1319, 1191, 965, 800, 1285]"
      ]
     },
     "execution_count": 37,
     "metadata": {},
     "output_type": "execute_result"
    }
   ],
   "source": [
    "counts"
   ]
  },
  {
   "cell_type": "code",
   "execution_count": 48,
   "id": "3c5dbac8-b8b4-48a3-a58d-0172e99daa4c",
   "metadata": {},
   "outputs": [
    {
     "data": {
      "text/plain": [
       "Text(0, 0.5, 'Frequency')"
      ]
     },
     "execution_count": 48,
     "metadata": {},
     "output_type": "execute_result"
    },
    {
     "data": {
      "image/png": "[encoded data removed]",
      "text/plain": [
       "<Figure size 1000x500 with 1 Axes>"
      ]
     },
     "metadata": {},
     "output_type": "display_data"
    }
   ],
   "source": [
    "plt.figure(figsize=(10, 5))\n",
    "plt.bar(products, counts);\n",
    "plt.xlabel(\"Products\")\n",
    "plt.ylabel(\"Frequency\")"
   ]
  },
  {
   "cell_type": "markdown",
   "id": "1fbd788e-2b9a-4bb9-acec-ea3dd475bdab",
   "metadata": {},
   "source": [
    "## Customer Tone Analysis\n",
    "\n",
    "Here, we show the distribution of customer tones or sentiments across conversations."
   ]
  },
  {
   "cell_type": "code",
   "execution_count": 52,
   "id": "c7df64b7-365d-4c5e-b256-2d80acf9cb9b",
   "metadata": {},
   "outputs": [],
   "source": [
    "tone_count = {\"neutral\": 0, \"cheerful\": 0, \"annoyed\": 0}"
   ]
  },
  {
   "cell_type": "code",
   "execution_count": 53,
   "id": "b0b8d4b9-2ead-4d74-aecf-cb04ead468f8",
   "metadata": {},
   "outputs": [],
   "source": [
    "for convo_file in convo_paths:\n",
    "    for line in open(convo_file, 'r'):\n",
    "        convo = json.loads(line)\n",
    "        tone_count[convo[\"tone\"]] += 1"
   ]
  },
  {
   "cell_type": "code",
   "execution_count": 54,
   "id": "5582c2a0-e35e-45bc-bb56-a390b71126f0",
   "metadata": {},
   "outputs": [
    {
     "data": {
      "text/plain": [
       "{'neutral': 5212, 'cheerful': 5192, 'annoyed': 5204}"
      ]
     },
     "execution_count": 54,
     "metadata": {},
     "output_type": "execute_result"
    }
   ],
   "source": [
    "tone_count"
   ]
  },
  {
   "cell_type": "code",
   "execution_count": 57,
   "id": "eb4c67e7-952a-4502-95ce-cc816c81f382",
   "metadata": {},
   "outputs": [
    {
     "data": {
      "text/plain": [
       "Text(0, 0.5, 'Frequency')"
      ]
     },
     "execution_count": 57,
     "metadata": {},
     "output_type": "execute_result"
    },
    {
     "data": {
      "image/png": "[encoded data removed]",
      "text/plain": [
       "<Figure size 640x480 with 1 Axes>"
      ]
     },
     "metadata": {},
     "output_type": "display_data"
    }
   ],
   "source": [
    "plt.bar(tone_count.keys(), tone_count.values());\n",
    "plt.xlabel(\"Tones/Sentiments\")\n",
    "plt.ylabel(\"Frequency\")"
   ]
  },
  {
   "cell_type": "markdown",
   "id": "bc2499c1-120f-4523-9da4-fde001caf293",
   "metadata": {},
   "source": [
    "## Language Style Analysis\n",
    "\n",
    "Here, we show the distribution of various language styles we used to augment the data."
   ]
  },
  {
   "cell_type": "code",
   "execution_count": 71,
   "id": "172886f6-29a0-47ac-864a-5a375797a283",
   "metadata": {},
   "outputs": [],
   "source": [
    "style_count = {\"regular\": 0, \"typos\": 0, \"non_native\": 0, \"colloquial\": 0}"
   ]
  },
  {
   "cell_type": "code",
   "execution_count": 72,
   "id": "e42e6746-84b5-46a5-8ed2-05553c612cbd",
   "metadata": {},
   "outputs": [],
   "source": [
    "for convo_file in convo_paths:\n",
    "    for line in open(convo_file, 'r'):\n",
    "        convo = json.loads(line)\n",
    "        style_count[convo[\"style\"]] += 1"
   ]
  },
  {
   "cell_type": "code",
   "execution_count": 73,
   "id": "610c9aa0-87b0-46e4-9469-80b4bd27f5c4",
   "metadata": {},
   "outputs": [
    {
     "data": {
      "text/plain": [
       "{'regular': 3906, 'typos': 3905, 'non_native': 3899, 'colloquial': 3898}"
      ]
     },
     "execution_count": 73,
     "metadata": {},
     "output_type": "execute_result"
    }
   ],
   "source": [
    "style_count"
   ]
  },
  {
   "cell_type": "code",
   "execution_count": 76,
   "id": "0dd8eac4-e446-42c1-a8b6-a661c313eaed",
   "metadata": {},
   "outputs": [
    {
     "data": {
      "text/plain": [
       "Text(0, 0.5, 'Frequency')"
      ]
     },
     "execution_count": 76,
     "metadata": {},
     "output_type": "execute_result"
    },
    {
     "data": {
      "image/png": "[encoded data removed]",
      "text/plain": [
       "<Figure size 640x480 with 1 Axes>"
      ]
     },
     "metadata": {},
     "output_type": "display_data"
    }
   ],
   "source": [
    "plt.bar(style_count.keys(), style_count.values());\n",
    "plt.xlabel(\"Styles\")\n",
    "plt.ylabel(\"Frequency\")"
   ]
  }
 ],
 "metadata": {
  "kernelspec": {
   "display_name": "Python 3 (ipykernel)",
   "language": "python",
   "name": "python3"
  },
  "language_info": {
   "codemirror_mode": {
    "name": "ipython",
    "version": 3
   },
   "file_extension": ".py",
   "mimetype": "text/x-python",
   "name": "python",
   "nbconvert_exporter": "python",
   "pygments_lexer": "ipython3",
   "version": "3.12.7"
  }
 },
 "nbformat": 4,
 "nbformat_minor": 5
}
