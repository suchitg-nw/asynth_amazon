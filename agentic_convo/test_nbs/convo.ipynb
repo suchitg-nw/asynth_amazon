{
 "cells": [
  {
   "cell_type": "code",
   "execution_count": 2,
   "id": "0fb410ca-8eae-4379-9a5d-fab53aa91aa8",
   "metadata": {},
   "outputs": [
    {
     "ename": "ModuleNotFoundError",
     "evalue": "No module named 'agent_prompts'",
     "output_type": "error",
     "traceback": [
      "\u001b[0;31m---------------------------------------------------------------------------\u001b[0m",
      "\u001b[0;31mModuleNotFoundError\u001b[0m                       Traceback (most recent call last)",
      "Cell \u001b[0;32mIn[2], line 7\u001b[0m\n\u001b[1;32m      4\u001b[0m \u001b[38;5;28;01mimport\u001b[39;00m \u001b[38;5;21;01mos\u001b[39;00m\n\u001b[1;32m      5\u001b[0m \u001b[38;5;28;01mimport\u001b[39;00m \u001b[38;5;21;01mre\u001b[39;00m\n\u001b[0;32m----> 7\u001b[0m \u001b[38;5;28;01mfrom\u001b[39;00m \u001b[38;5;21;01magent_prompts\u001b[39;00m \u001b[38;5;28;01mimport\u001b[39;00m customer_sys_prompt, support_agent_sys_prompt\n\u001b[1;32m      8\u001b[0m \u001b[38;5;28;01mfrom\u001b[39;00m \u001b[38;5;21;01mautogen\u001b[39;00m \u001b[38;5;28;01mimport\u001b[39;00m ConversableAgent\n\u001b[1;32m      9\u001b[0m \u001b[38;5;28;01mfrom\u001b[39;00m \u001b[38;5;21;01mdotenv\u001b[39;00m \u001b[38;5;28;01mimport\u001b[39;00m load_dotenv\n",
      "\u001b[0;31mModuleNotFoundError\u001b[0m: No module named 'agent_prompts'"
     ]
    }
   ],
   "source": [
    "import asyncio\n",
    "import time\n",
    "import json\n",
    "import os\n",
    "import re\n",
    "\n",
    "from agent_prompts import customer_sys_prompt, support_agent_sys_prompt\n",
    "from autogen import ConversableAgent\n",
    "from dotenv import load_dotenv\n",
    "from itertools import islice\n",
    "\n",
    "load_dotenv()"
   ]
  },
  {
   "cell_type": "code",
   "execution_count": 22,
   "id": "7187a15f-4bee-4139-966f-43a5b17abe42",
   "metadata": {},
   "outputs": [],
   "source": [
    "llm_config = {\n",
    "    \"config_list\": [\n",
    "        {\n",
    "            \"model\": \"gpt-4o-mini\",\n",
    "            \"api_key\": os.getenv(\"OPENAI_API_KEY\"),\n",
    "            \"price\": [0.000150, 0.000600],\n",
    "            \"cache_seed\": None,\n",
    "        }\n",
    "    ]\n",
    "}"
   ]
  },
  {
   "cell_type": "code",
   "execution_count": 3,
   "id": "7273392f-2600-4ef6-a77c-f10922c1a0f4",
   "metadata": {},
   "outputs": [],
   "source": [
    "def create_agent(\n",
    "    name: str,\n",
    "    sys_prompt: str,\n",
    "    human_input_mode: str,\n",
    "    termination_msg: str | None = None,\n",
    "):\n",
    "    return ConversableAgent(\n",
    "        name=name,\n",
    "        system_message=sys_prompt,\n",
    "        is_termination_msg=lambda msg: termination_msg in msg[\"content\"]\n",
    "        if termination_msg\n",
    "        else None,\n",
    "        human_input_mode=human_input_mode,\n",
    "        llm_config=llm_config,\n",
    "        silent=True\n",
    "    )"
   ]
  },
  {
   "cell_type": "code",
   "execution_count": 4,
   "id": "16bbeb11-fae7-47db-8d32-fc634261ff66",
   "metadata": {},
   "outputs": [],
   "source": [
    "def process_queries(queries: dict[str, str | list[str]]):\n",
    "    guidelines = queries[\"guidelines\"]\n",
    "    f = open(\"convo.txt\", \"a\")\n",
    "    for i, query in enumerate(queries[\"customer_queries\"]):\n",
    "        if i == 3:\n",
    "            break\n",
    "        customer_agent = create_agent(\n",
    "            \"Customer\",\n",
    "            customer_sys_prompt.format(guidelines=guidelines),\n",
    "            \"NEVER\",\n",
    "            \"RESOLVED\",\n",
    "        )\n",
    "        support_agent = create_agent(\n",
    "            \"Support_Agent\", support_agent_sys_prompt, \"NEVER\", \"RESOLVED\"\n",
    "        )\n",
    "        chat_result = customer_agent.initiate_chat(support_agent, message=query)\n",
    "    f.close()\n"
   ]
  },
  {
   "cell_type": "code",
   "execution_count": 5,
   "id": "50a8a2d2-f8a3-4905-8832-c21e2f542b72",
   "metadata": {},
   "outputs": [],
   "source": [
    "# with open(\"../query_gen/queries.jsonl\", \"r\") as f:\n",
    "#     for line in f:\n",
    "#         queries = json.loads(line)\n",
    "#         process_queries(queries)\n",
    "#         break"
   ]
  },
  {
   "cell_type": "code",
   "execution_count": 47,
   "id": "4342794b-69c7-4658-8187-db2055c91173",
   "metadata": {},
   "outputs": [],
   "source": [
    "async def process_batch(queries: list[str], out_file, guidelines: str):\n",
    "    \"\"\"Processes a batch of queries.\"\"\"\n",
    "    for j, query in enumerate(queries[\"customer_queries\"]):\n",
    "        customer_agent = create_agent(\n",
    "            \"Customer\",\n",
    "            customer_sys_prompt.format(guidelines=guidelines),\n",
    "            \"NEVER\",\n",
    "            \"RESOLVED\",\n",
    "        )\n",
    "        support_agent = create_agent(\n",
    "            \"Support_Agent\", support_agent_sys_prompt, \"NEVER\", \"RESOLVED\"\n",
    "        )\n",
    "\n",
    "        # remove number at the start if present\n",
    "        query = re.sub(r\"^\\d+\\.\\s*\", \"\", query)\n",
    "        chat_result = await customer_agent.a_initiate_chat(support_agent, message=query)\n",
    "        out_json = {\n",
    "            \"title\": queries[\"title\"], \n",
    "            \"tone\": queries[\"tone\"],\n",
    "            \"style\": queries[\"style\"],\n",
    "            \"conversation\": chat_result.chat_history,\n",
    "            \"length\": len(chat_result.chat_history),\n",
    "            \"status\": \"UNRESOLVED\" if \"UNRESOLVED\" in chat_result.chat_history[-1][\"content\"]\\\n",
    "                      else \"RESOLVED\"\n",
    "        }\n",
    "        json.dump(out_json, out_file, ensure_ascii=False)\n",
    "        out_file.write(\"\\n\")"
   ]
  },
  {
   "cell_type": "code",
   "execution_count": 48,
   "id": "64cb873d-8409-4038-ac68-0d4d88f58cdb",
   "metadata": {},
   "outputs": [],
   "source": [
    "async def process_query_file(inp_file_str: str, out_file_str: str, batch_sz: int = 3):\n",
    "    inp_file = open(inp_file_str, 'r')\n",
    "    out_file = open(out_file_str, 'r')\n",
    "\n",
    "    i = 1\n",
    "    while True:\n",
    "        query_set = list(islice(inp_file, batch_sz))\n",
    "        if not batch:\n",
    "            print(f\"Finished generation for file: {inp_file_str}\")\n",
    "            break\n",
    "\n",
    "        print(f\"Processing query_set {i}.\")\n",
    "        tasks = [\n",
    "            process_batch(\n",
    "                queries=json.loads(queries)[\"customer_queries\"],\n",
    "                out_file=out_file,\n",
    "                guidelines=open(f\"/home/suchitg/amazon_help/leafdirs/{queries[\"title\"]}/t.txt\", \"r\").read()\n",
    "            )\n",
    "            for queries in query_set\n",
    "        ]\n",
    "        await asyncio.gather(*tasks)\n",
    "        i += 1"
   ]
  },
  {
   "cell_type": "code",
   "execution_count": 16,
   "id": "d9e0e22b-90f4-481c-9aed-87e507c38596",
   "metadata": {
    "scrolled": true
   },
   "outputs": [
    {
     "name": "stdout",
     "output_type": "stream",
     "text": [
      "[autogen.oai.client: 11-18 12:25:20] {184} WARNING - The API key specified is not a valid OpenAI format; it won't work with the OpenAI-hosted model.\n",
      "[autogen.oai.client: 11-18 12:25:21] {184} WARNING - The API key specified is not a valid OpenAI format; it won't work with the OpenAI-hosted model.\n",
      "[autogen.oai.client: 11-18 12:25:24] {184} WARNING - The API key specified is not a valid OpenAI format; it won't work with the OpenAI-hosted model.\n",
      "[autogen.oai.client: 11-18 12:25:24] {184} WARNING - The API key specified is not a valid OpenAI format; it won't work with the OpenAI-hosted model.\n",
      "[autogen.oai.client: 11-18 12:25:28] {184} WARNING - The API key specified is not a valid OpenAI format; it won't work with the OpenAI-hosted model.\n",
      "[autogen.oai.client: 11-18 12:25:28] {184} WARNING - The API key specified is not a valid OpenAI format; it won't work with the OpenAI-hosted model.\n",
      "[autogen.oai.client: 11-18 12:25:31] {184} WARNING - The API key specified is not a valid OpenAI format; it won't work with the OpenAI-hosted model.\n",
      "[autogen.oai.client: 11-18 12:25:31] {184} WARNING - The API key specified is not a valid OpenAI format; it won't work with the OpenAI-hosted model.\n",
      "[autogen.oai.client: 11-18 12:25:38] {184} WARNING - The API key specified is not a valid OpenAI format; it won't work with the OpenAI-hosted model.\n",
      "[autogen.oai.client: 11-18 12:25:38] {184} WARNING - The API key specified is not a valid OpenAI format; it won't work with the OpenAI-hosted model.\n",
      "[autogen.oai.client: 11-18 12:25:47] {184} WARNING - The API key specified is not a valid OpenAI format; it won't work with the OpenAI-hosted model.\n",
      "[autogen.oai.client: 11-18 12:25:47] {184} WARNING - The API key specified is not a valid OpenAI format; it won't work with the OpenAI-hosted model.\n",
      "[autogen.oai.client: 11-18 12:26:00] {184} WARNING - The API key specified is not a valid OpenAI format; it won't work with the OpenAI-hosted model.\n",
      "[autogen.oai.client: 11-18 12:26:00] {184} WARNING - The API key specified is not a valid OpenAI format; it won't work with the OpenAI-hosted model.\n"
     ]
    }
   ],
   "source": [
    "def process_query_file(inp_file_str: str, out_file_str: str, batch_sz: int = 3):\n",
    "    inp_file = open(inp_file_str, 'r')\n",
    "    out_file = open(out_file_str, 'r')\n",
    "\n",
    "    \n",
    "    for i, line in enumerate(inp_file):\n",
    "        queries = json.loads(line)\n",
    "        guidelines = open(f\"/home/suchitg/amazon_help/leafdirs/{queries['title']}/t.txt\", \"r\").read()\n",
    "        for j, query in enumerate(queries[\"customer_queries\"]):\n",
    "            customer_agent = create_agent(\n",
    "                \"Customer\",\n",
    "                customer_sys_prompt.format(guidelines=guidelines),\n",
    "                \"NEVER\",\n",
    "                \"RESOLVED\",\n",
    "            )\n",
    "            support_agent = create_agent(\n",
    "                \"Support_Agent\", support_agent_sys_prompt, \"NEVER\", \"RESOLVED\"\n",
    "            )\n",
    "            query = re.sub(r\"^\\d+\\.\\s*\", \"\", query)\n",
    "            chat_result = await customer_agent.a_initiate_chat(support_agent, message=query)\n",
    "            out_json = {\n",
    "                \"title\": queries[\"title\"], \n",
    "                \"tone\": queries[\"tone\"],\n",
    "                \"style\": queries[\"style\"],\n",
    "                \"conversation\": chat_result.chat_history,\n",
    "                \"length\": len(chat_result.chat_history),\n",
    "                \"status\": \"UNRESOLVED\" if \"UNRESOLVED\" in chat_result.chat_history[-1][\"content\"]\\\n",
    "                          else \"RESOLVED\"\n",
    "            }\n",
    "            json.dump(out_json, out_file, ensure_ascii=False)\n",
    "            out_file.write(\"\\n\")\n",
    "            # open(\"./convo.jsonl\", 'a').write('\\n')\n",
    "        break\n",
    "        #     if j == 5:\n",
    "        #         break\n",
    "        # if i == 2:\n",
    "        #     break\n",
    "    \n",
    "    inp_file.close()\n",
    "    out_file.close()"
   ]
  },
  {
   "cell_type": "markdown",
   "id": "98a089ad-be0a-4069-bbc2-981ce6d936f7",
   "metadata": {},
   "source": [
    "- send file to main function for processing\n",
    "- each file has many _batches_ of queries\n",
    "    - each batch has a bunch of customer queries\n",
    "- process 1 file at a time\n",
    "- the \"bunch\" of queries in each batch can be processed asynchronously by autogen native async functionality\n",
    "- TODO: process batches in parallel"
   ]
  },
  {
   "cell_type": "code",
   "execution_count": 17,
   "id": "42feb0a4-7425-4ce3-bebb-560172a09fd4",
   "metadata": {},
   "outputs": [
    {
     "name": "stdout",
     "output_type": "stream",
     "text": [
      "49.39613747596741\n"
     ]
    }
   ],
   "source": [
    "print(end - start)"
   ]
  },
  {
   "cell_type": "code",
   "execution_count": null,
   "id": "596df0e9-2dec-45ed-b2eb-87a5a80b26e1",
   "metadata": {},
   "outputs": [],
   "source": []
  },
  {
   "cell_type": "code",
   "execution_count": null,
   "id": "becd42ca-6533-45e9-95ea-1f45e8a003ba",
   "metadata": {},
   "outputs": [],
   "source": []
  },
  {
   "cell_type": "code",
   "execution_count": 1,
   "id": "078e23bd-01d0-48ae-9bd5-1045fc952498",
   "metadata": {},
   "outputs": [],
   "source": [
    "import json"
   ]
  },
  {
   "cell_type": "code",
   "execution_count": 17,
   "id": "49d951af-4622-47ab-9c88-95fb9247c02d",
   "metadata": {
    "scrolled": true
   },
   "outputs": [
    {
     "name": "stdout",
     "output_type": "stream",
     "text": [
      "EE:  {'title': 'ShipppingSpeedAndCharges', 'tone': 'neutral', 'style': 'non_native', 'conversation': [], 'length': 0, 'status': 'ERROR', 'error': \"Error code: 500 - {'error': {'message': 'The model produced invalid content. Consider modifying your prompt if you are seeing this error persistently.', 'type': 'model_error', 'param': None, 'code': None}}\"}\n",
      "oo:  101\n",
      "oo:  101\n",
      "EE:  {'title': 'UnkownCharges', 'tone': 'annoyed', 'style': 'non_native', 'conversation': [], 'length': 0, 'status': 'ERROR', 'error': \"Error code: 500 - {'error': {'message': 'The model produced invalid content. Consider modifying your prompt if you are seeing this error persistently.', 'type': 'model_error', 'param': None, 'code': None}}\"}\n",
      "EE:  {'title': 'PriceMatching', 'tone': 'annoyed', 'style': 'non_native', 'conversation': [], 'length': 0, 'status': 'ERROR', 'error': \"Error code: 500 - {'error': {'message': 'The model produced invalid content. Consider modifying your prompt if you are seeing this error persistently.', 'type': 'model_error', 'param': None, 'code': None}}\"}\n",
      "EE:  {'title': 'PaymentIssues', 'tone': 'annoyed', 'style': 'non_native', 'conversation': [], 'length': 0, 'status': 'ERROR', 'error': \"Error code: 500 - {'error': {'message': 'The model produced invalid content. Consider modifying your prompt if you are seeing this error persistently.', 'type': 'model_error', 'param': None, 'code': None}}\"}\n",
      "EE:  {'title': 'InstantBankDiscounts', 'tone': 'annoyed', 'style': 'non_native', 'conversation': [], 'length': 0, 'status': 'ERROR', 'error': \"Error code: 500 - {'error': {'message': 'The model produced invalid content. Consider modifying your prompt if you are seeing this error persistently.', 'type': 'model_error', 'param': None, 'code': None}}\"}\n",
      "EE:  {'title': 'RequestAtoZGuaranteeRefund', 'tone': 'annoyed', 'style': 'non_native', 'conversation': [], 'length': 0, 'status': 'ERROR', 'error': \"Error code: 500 - {'error': {'message': 'The model produced invalid content. Consider modifying your prompt if you are seeing this error persistently.', 'type': 'model_error', 'param': None, 'code': None}}\"}\n",
      "EE:  {'title': 'CouponsFAQ', 'tone': 'annoyed', 'style': 'non_native', 'conversation': [], 'length': 0, 'status': 'ERROR', 'error': \"Error code: 500 - {'error': {'message': 'The model produced invalid content. Consider modifying your prompt if you are seeing this error persistently.', 'type': 'model_error', 'param': None, 'code': None}}\"}\n",
      "EE:  {'title': 'FAQAboutWarranty', 'tone': 'annoyed', 'style': 'non_native', 'conversation': [], 'length': 0, 'status': 'ERROR', 'error': \"Error code: 500 - {'error': {'message': 'The model produced invalid content. Consider modifying your prompt if you are seeing this error persistently.', 'type': 'model_error', 'param': None, 'code': None}}\"}\n",
      "EE:  {'title': 'ReportAnEmergencyIncident', 'tone': 'annoyed', 'style': 'non_native', 'conversation': [], 'length': 0, 'status': 'ERROR', 'error': \"Error code: 500 - {'error': {'message': 'The model produced invalid content. Consider modifying your prompt if you are seeing this error persistently.', 'type': 'model_error', 'param': None, 'code': None}}\"}\n",
      "EE:  {'title': 'ShipmentIsLate', 'tone': 'annoyed', 'style': 'non_native', 'conversation': [], 'length': 0, 'status': 'ERROR', 'error': \"Error code: 500 - {'error': {'message': 'The model produced invalid content. Consider modifying your prompt if you are seeing this error persistently.', 'type': 'model_error', 'param': None, 'code': None}}\"}\n",
      "EE:  {'title': 'DamagedDefectiveOrWrongProductFAQ', 'tone': 'cheerful', 'style': 'non_native', 'conversation': [], 'length': 0, 'status': 'ERROR', 'error': \"Error code: 500 - {'error': {'message': 'The model produced invalid content. Consider modifying your prompt if you are seeing this error persistently.', 'type': 'model_error', 'param': None, 'code': None}}\"}\n",
      "EE:  {'title': 'CancelItemsOrOrders', 'tone': 'annoyed', 'style': 'non_native', 'conversation': [], 'length': 0, 'status': 'ERROR', 'error': \"Error code: 500 - {'error': {'message': 'The model produced invalid content. Consider modifying your prompt if you are seeing this error persistently.', 'type': 'model_error', 'param': None, 'code': None}}\"}\n",
      "EE:  {'title': 'CancelItemsOrOrders', 'tone': 'annoyed', 'style': 'non_native', 'conversation': [], 'length': 0, 'status': 'ERROR', 'error': \"Error code: 500 - {'error': {'message': 'The model produced invalid content. Consider modifying your prompt if you are seeing this error persistently.', 'type': 'model_error', 'param': None, 'code': None}}\"}\n",
      "oo:  101\n"
     ]
    }
   ],
   "source": [
    "r, u = 0, 0\n",
    "convo_len = 0\n",
    "length = 0\n",
    "len_stats = []\n",
    "i = 0\n",
    "err = 0\n",
    "for line in open(\"../conversation_data/non_native_convos.jsonl\", 'r'):\n",
    "    l = json.loads(line)\n",
    "    if l['length'] > 50:\n",
    "        print(\"oo: \", l['length'])\n",
    "    len_stats.append(l['length'])\n",
    "    convo_len += l['length']\n",
    "    length += 1\n",
    "    i += 1\n",
    "        \n",
    "    if l[\"status\"] == \"RESOLVED\":\n",
    "        r += 1\n",
    "    else:\n",
    "        u += 1\n",
    "\n",
    "    if l['status'] == \"ERROR\":\n",
    "        err += 1\n",
    "        print(\"EE: \", l)\n",
    "        \n",
    "\n",
    "    if l['length'] > 20:\n",
    "        temp =  l['conversation']"
   ]
  },
  {
   "cell_type": "code",
   "execution_count": 19,
   "id": "ee878900-d3f7-4bc2-8c5f-905515d6b850",
   "metadata": {},
   "outputs": [
    {
     "data": {
      "text/plain": [
       "(2583, 1316)"
      ]
     },
     "execution_count": 19,
     "metadata": {},
     "output_type": "execute_result"
    }
   ],
   "source": [
    "r, u"
   ]
  },
  {
   "cell_type": "code",
   "execution_count": 11,
   "id": "712310de-aacd-453a-ba30-5f24de6b3051",
   "metadata": {},
   "outputs": [
    {
     "data": {
      "text/plain": [
       "8.094126699153628"
      ]
     },
     "execution_count": 11,
     "metadata": {},
     "output_type": "execute_result"
    }
   ],
   "source": [
    "convo_len / length"
   ]
  },
  {
   "cell_type": "code",
   "execution_count": 12,
   "id": "26a9c813-8109-4129-a14c-99e4cf4516b9",
   "metadata": {},
   "outputs": [
    {
     "data": {
      "text/plain": [
       "(0, 23)"
      ]
     },
     "execution_count": 12,
     "metadata": {},
     "output_type": "execute_result"
    }
   ],
   "source": [
    "min(len_stats), max(len_stats)"
   ]
  },
  {
   "cell_type": "code",
   "execution_count": 13,
   "id": "cbc26996-4426-43c5-997f-8bd36d7772bf",
   "metadata": {},
   "outputs": [],
   "source": [
    "import numpy as np\n",
    "import matplotlib.pyplot as plt"
   ]
  },
  {
   "cell_type": "code",
   "execution_count": 14,
   "id": "07db3127-8541-41a5-a9b4-55909017ab4b",
   "metadata": {},
   "outputs": [
    {
     "data": {
      "text/plain": [
       "7.0"
      ]
     },
     "execution_count": 14,
     "metadata": {},
     "output_type": "execute_result"
    }
   ],
   "source": [
    "np.median(len_stats)"
   ]
  },
  {
   "cell_type": "code",
   "execution_count": 15,
   "id": "142880b4-c8f4-42c3-8b5f-9cdc257ff48f",
   "metadata": {},
   "outputs": [
    {
     "data": {
      "text/plain": [
       "(array([6.000e+00, 2.000e+00, 4.980e+02, 2.732e+03, 4.560e+02, 1.430e+02,\n",
       "        4.300e+01, 1.500e+01, 3.000e+00, 1.000e+00]),\n",
       " array([ 0. ,  2.3,  4.6,  6.9,  9.2, 11.5, 13.8, 16.1, 18.4, 20.7, 23. ]),\n",
       " <BarContainer object of 10 artists>)"
      ]
     },
     "execution_count": 15,
     "metadata": {},
     "output_type": "execute_result"
    },
    {
     "data": {
      "image/png": "[encoded data removed]",
      "text/plain": [
       "<Figure size 640x480 with 1 Axes>"
      ]
     },
     "metadata": {},
     "output_type": "display_data"
    }
   ],
   "source": [
    "plt.hist(len_stats)"
   ]
  },
  {
   "cell_type": "markdown",
   "id": "e6a57233-af18-481c-b450-3eccf73c13dd",
   "metadata": {},
   "source": [
    "TODO:\n",
    "- identify and remove convos with super-long lengths\n",
    "- look into errors"
   ]
  },
  {
   "cell_type": "code",
   "execution_count": null,
   "id": "cde4b49b-a9b6-43ca-ab76-6ee608ef431b",
   "metadata": {},
   "outputs": [],
   "source": []
  }
 ],
 "metadata": {
  "kernelspec": {
   "display_name": "Python 3 (ipykernel)",
   "language": "python",
   "name": "python3"
  },
  "language_info": {
   "codemirror_mode": {
    "name": "ipython",
    "version": 3
   },
   "file_extension": ".py",
   "mimetype": "text/x-python",
   "name": "python",
   "nbconvert_exporter": "python",
   "pygments_lexer": "ipython3",
   "version": "3.12.7"
  }
 },
 "nbformat": 4,
 "nbformat_minor": 5
}
