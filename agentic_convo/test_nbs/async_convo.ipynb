{
 "cells": [
  {
   "cell_type": "code",
   "execution_count": 1,
   "id": "b18eec2b-0a6f-4030-8e7e-3ccb442b993b",
   "metadata": {},
   "outputs": [
    {
     "data": {
      "text/plain": [
       "True"
      ]
     },
     "execution_count": 1,
     "metadata": {},
     "output_type": "execute_result"
    }
   ],
   "source": [
    "import asyncio\n",
    "import time\n",
    "import json\n",
    "import os\n",
    "import re\n",
    "\n",
    "from agent_prompts import customer_sys_prompt, support_agent_sys_prompt\n",
    "from autogen import ConversableAgent\n",
    "from dotenv import load_dotenv\n",
    "from itertools import islice\n",
    "\n",
    "load_dotenv()"
   ]
  },
  {
   "cell_type": "code",
   "execution_count": 2,
   "id": "11b563c0-0a74-44d2-ad5f-f58839b1d8e8",
   "metadata": {},
   "outputs": [],
   "source": [
    "llm_config = {\n",
    "    \"config_list\": [\n",
    "        {\n",
    "            \"model\": \"gpt-4o-mini\",\n",
    "            \"api_key\": os.getenv(\"OPENAI_API_KEY\"),\n",
    "            \"price\": [0.000150, 0.000600],\n",
    "            \"cache_seed\": None,\n",
    "        }\n",
    "    ]\n",
    "}"
   ]
  },
  {
   "cell_type": "code",
   "execution_count": 3,
   "id": "ae569ea2-6f6d-4b1b-83a0-3fcd0caab784",
   "metadata": {},
   "outputs": [],
   "source": [
    "def create_agent(\n",
    "    name: str,\n",
    "    sys_prompt: str,\n",
    "    human_input_mode: str,\n",
    "    termination_msg: str | None = None,\n",
    "):\n",
    "    return ConversableAgent(\n",
    "        name=name,\n",
    "        system_message=sys_prompt,\n",
    "        is_termination_msg=lambda msg: termination_msg in msg[\"content\"]\n",
    "        if termination_msg\n",
    "        else None,\n",
    "        human_input_mode=human_input_mode,\n",
    "        llm_config=llm_config,\n",
    "        silent=True\n",
    "    )"
   ]
  },
  {
   "cell_type": "code",
   "execution_count": 7,
   "id": "533bb695-eca0-4aca-842d-5dc5913671e4",
   "metadata": {},
   "outputs": [],
   "source": [
    "async def process_batch(queries: list[str], out_file, guidelines: str):\n",
    "    \"\"\"Processes a batch of queries.\"\"\"\n",
    "    for query in queries[\"customer_queries\"]:\n",
    "        # \"RESOLVED\" is passed as the termination argument.\n",
    "        # this works in both cases where the LLM outputs RESOLVED or UNRESOLVED\n",
    "        customer_agent = create_agent(\n",
    "            \"Customer\",\n",
    "            customer_sys_prompt.format(guidelines=guidelines),\n",
    "            \"NEVER\",\n",
    "            \"RESOLVED\",\n",
    "        )\n",
    "        support_agent = create_agent(\n",
    "            \"Support_Agent\", support_agent_sys_prompt, \"NEVER\", \"RESOLVED\"\n",
    "        )\n",
    "\n",
    "        # remove number at the start if present\n",
    "        query = re.sub(r\"^\\d+\\.\\s*\", \"\", query)\n",
    "        chat_result = await customer_agent.a_initiate_chat(support_agent, message=query)\n",
    "        out_json = {\n",
    "            \"title\": queries[\"title\"], \n",
    "            \"tone\": queries[\"tone\"],\n",
    "            \"style\": queries[\"style\"],\n",
    "            \"conversation\": chat_result.chat_history,\n",
    "            \"length\": len(chat_result.chat_history),\n",
    "            \"status\": \"UNRESOLVED\" if \"UNRESOLVED\" in chat_result.chat_history[-1][\"content\"]\\\n",
    "                      else \"RESOLVED\"\n",
    "        }\n",
    "        json.dump(out_json, out_file, ensure_ascii=False)\n",
    "        out_file.write(\"\\n\")"
   ]
  },
  {
   "cell_type": "code",
   "execution_count": 8,
   "id": "c6a7eaf9-137f-4400-9bf1-c96c96a88676",
   "metadata": {},
   "outputs": [],
   "source": [
    "async def process_query_file(inp_file_str: str, out_file_str: str, batch_sz: int = 3):\n",
    "    inp_file = open(inp_file_str, 'r')\n",
    "    out_file = open(out_file_str, 'r')\n",
    "\n",
    "    i = 1\n",
    "    while True:\n",
    "        query_set = list(islice(inp_file, batch_sz))\n",
    "        if not batch:\n",
    "            print(f\"Finished generation for file: {inp_file_str}\")\n",
    "            break\n",
    "\n",
    "        print(f\"Processing query_set {i}.\")\n",
    "        tasks = [\n",
    "            process_batch(\n",
    "                queries=json.loads(queries)[\"customer_queries\"],\n",
    "                out_file=out_file,\n",
    "                guidelines=open(f\"/home/suchitg/amazon_help/leafdirs/{queries[\"title\"]}/t.txt\", \"r\").read()\n",
    "            )\n",
    "            for queries in query_set\n",
    "        ]\n",
    "        await asyncio.gather(*tasks)\n",
    "        i += 1"
   ]
  },
  {
   "cell_type": "code",
   "execution_count": null,
   "id": "506e8ec6-3dec-475f-b283-4b0f3090a897",
   "metadata": {},
   "outputs": [],
   "source": []
  },
  {
   "cell_type": "code",
   "execution_count": 10,
   "id": "47d92b37-e29c-47b4-9f01-89c946527f68",
   "metadata": {},
   "outputs": [
    {
     "ename": "RuntimeError",
     "evalue": "asyncio.run() cannot be called from a running event loop",
     "output_type": "error",
     "traceback": [
      "\u001b[0;31m---------------------------------------------------------------------------\u001b[0m",
      "\u001b[0;31mRuntimeError\u001b[0m                              Traceback (most recent call last)",
      "Cell \u001b[0;32mIn[10], line 1\u001b[0m\n\u001b[0;32m----> 1\u001b[0m \u001b[38;5;28;01mawait\u001b[39;00m \u001b[43masyncio\u001b[49m\u001b[38;5;241;43m.\u001b[39;49m\u001b[43mrun\u001b[49m\u001b[43m(\u001b[49m\u001b[43mprocess_query_file\u001b[49m\u001b[43m(\u001b[49m\u001b[38;5;124;43m\"\u001b[39;49m\u001b[38;5;124;43m../query_gen/queries.jsonl\u001b[39;49m\u001b[38;5;124;43m\"\u001b[39;49m\u001b[43m,\u001b[49m\u001b[43m \u001b[49m\u001b[38;5;124;43m\"\u001b[39;49m\u001b[38;5;124;43masync_test.json\u001b[39;49m\u001b[38;5;124;43m\"\u001b[39;49m\u001b[43m)\u001b[49m\u001b[43m)\u001b[49m\n",
      "File \u001b[0;32m/usr/lib/python3.12/asyncio/runners.py:190\u001b[0m, in \u001b[0;36mrun\u001b[0;34m(main, debug, loop_factory)\u001b[0m\n\u001b[1;32m    161\u001b[0m \u001b[38;5;250m\u001b[39m\u001b[38;5;124;03m\"\"\"Execute the coroutine and return the result.\u001b[39;00m\n\u001b[1;32m    162\u001b[0m \n\u001b[1;32m    163\u001b[0m \u001b[38;5;124;03mThis function runs the passed coroutine, taking care of\u001b[39;00m\n\u001b[0;32m   (...)\u001b[0m\n\u001b[1;32m    186\u001b[0m \u001b[38;5;124;03m    asyncio.run(main())\u001b[39;00m\n\u001b[1;32m    187\u001b[0m \u001b[38;5;124;03m\"\"\"\u001b[39;00m\n\u001b[1;32m    188\u001b[0m \u001b[38;5;28;01mif\u001b[39;00m events\u001b[38;5;241m.\u001b[39m_get_running_loop() \u001b[38;5;129;01mis\u001b[39;00m \u001b[38;5;129;01mnot\u001b[39;00m \u001b[38;5;28;01mNone\u001b[39;00m:\n\u001b[1;32m    189\u001b[0m     \u001b[38;5;66;03m# fail fast with short traceback\u001b[39;00m\n\u001b[0;32m--> 190\u001b[0m     \u001b[38;5;28;01mraise\u001b[39;00m \u001b[38;5;167;01mRuntimeError\u001b[39;00m(\n\u001b[1;32m    191\u001b[0m         \u001b[38;5;124m\"\u001b[39m\u001b[38;5;124masyncio.run() cannot be called from a running event loop\u001b[39m\u001b[38;5;124m\"\u001b[39m)\n\u001b[1;32m    193\u001b[0m \u001b[38;5;28;01mwith\u001b[39;00m Runner(debug\u001b[38;5;241m=\u001b[39mdebug, loop_factory\u001b[38;5;241m=\u001b[39mloop_factory) \u001b[38;5;28;01mas\u001b[39;00m runner:\n\u001b[1;32m    194\u001b[0m     \u001b[38;5;28;01mreturn\u001b[39;00m runner\u001b[38;5;241m.\u001b[39mrun(main)\n",
      "\u001b[0;31mRuntimeError\u001b[0m: asyncio.run() cannot be called from a running event loop"
     ]
    }
   ],
   "source": [
    "await asyncio.run(process_query_file(\"../query_gen/queries.jsonl\", \"async_test.json\"))"
   ]
  },
  {
   "cell_type": "code",
   "execution_count": null,
   "id": "f8d2ee7d-3038-4d58-a5dc-d27ead00eb51",
   "metadata": {},
   "outputs": [],
   "source": []
  }
 ],
 "metadata": {
  "kernelspec": {
   "display_name": "Python 3 (ipykernel)",
   "language": "python",
   "name": "python3"
  },
  "language_info": {
   "codemirror_mode": {
    "name": "ipython",
    "version": 3
   },
   "file_extension": ".py",
   "mimetype": "text/x-python",
   "name": "python",
   "nbconvert_exporter": "python",
   "pygments_lexer": "ipython3",
   "version": "3.12.7"
  }
 },
 "nbformat": 4,
 "nbformat_minor": 5
}
