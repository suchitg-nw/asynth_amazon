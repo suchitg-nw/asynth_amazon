{
 "cells": [
  {
   "cell_type": "code",
   "execution_count": 1,
   "id": "a16ee044-a514-4786-a448-d980a23c2466",
   "metadata": {},
   "outputs": [
    {
     "data": {
      "text/plain": [
       "True"
      ]
     },
     "execution_count": 1,
     "metadata": {},
     "output_type": "execute_result"
    }
   ],
   "source": [
    "from openai import OpenAI\n",
    "from prompts import colloquial_style_aug_sys_prompt\n",
    "from functools import cache\n",
    "\n",
    "import os\n",
    "import json\n",
    "from dotenv import load_dotenv\n",
    "load_dotenv()"
   ]
  },
  {
   "cell_type": "code",
   "execution_count": 2,
   "id": "98f1ef77-13fc-4f65-a2c5-4636d7fccfaa",
   "metadata": {},
   "outputs": [],
   "source": [
    "client = OpenAI(api_key=os.getenv(\"OPENAI_API_KEY\"))"
   ]
  },
  {
   "cell_type": "code",
   "execution_count": 3,
   "id": "617c3eca-09ab-4b7d-bf5d-406ba1c5bb7e",
   "metadata": {},
   "outputs": [],
   "source": [
    "def colloquial_augment(queries: dict[str, list[str]]):\n",
    "    res = client.chat.completions.create(\n",
    "        model=\"gpt-4o-mini\",\n",
    "        messages=[\n",
    "            {\"role\": \"system\", \"content\": colloquial_style_aug_sys_prompt},\n",
    "            {\"role\": \"user\", \"content\": json.dumps(queries, indent=4)},\n",
    "        ],\n",
    "        response_format={\"type\": \"json_object\"},\n",
    "    )\n",
    "    return res.choices[0].message.content"
   ]
  },
  {
   "cell_type": "code",
   "execution_count": 4,
   "id": "a2f6734b-c5d9-4752-92cd-05bb1b15a2ec",
   "metadata": {},
   "outputs": [],
   "source": [
    "with open(\"queries.jsonl\", 'r') as file:\n",
    "    augmented_queries = []\n",
    "    for line in file:\n",
    "        temp = json.loads(line)\n",
    "        queries = {\"customer_queries\": temp[\"customer_queries\"]}\n",
    "        colloquial = colloquial_augment(queries)\n",
    "        \n",
    "        colloquial = json.loads(colloquial)\n",
    "        colloquial.update({\"title\": temp[\"title\"], \"tone\": temp[\"tone\"], \"style\": \"colloquial\"})\n",
    "        \n",
    "        augmented_queries.append(colloquial)"
   ]
  },
  {
   "cell_type": "code",
   "execution_count": 5,
   "id": "3aab1bc2-e993-48df-8348-9a086e7e6239",
   "metadata": {},
   "outputs": [],
   "source": [
    "with open(\"queries.jsonl\", 'a') as file:\n",
    "    for query in augmented_queries:\n",
    "        json.dump(query, file, ensure_ascii=False)\n",
    "        file.write('\\n')"
   ]
  },
  {
   "cell_type": "code",
   "execution_count": null,
   "id": "1f83475f-76e3-4fe0-b7a8-6b2a0a8f1ddb",
   "metadata": {},
   "outputs": [],
   "source": []
  }
 ],
 "metadata": {
  "kernelspec": {
   "display_name": "Python 3 (ipykernel)",
   "language": "python",
   "name": "python3"
  },
  "language_info": {
   "codemirror_mode": {
    "name": "ipython",
    "version": 3
   },
   "file_extension": ".py",
   "mimetype": "text/x-python",
   "name": "python",
   "nbconvert_exporter": "python",
   "pygments_lexer": "ipython3",
   "version": "3.12.6"
  }
 },
 "nbformat": 4,
 "nbformat_minor": 5
}
