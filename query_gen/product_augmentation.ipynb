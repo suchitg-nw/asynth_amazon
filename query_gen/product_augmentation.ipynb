{
 "cells": [
  {
   "cell_type": "code",
   "execution_count": 1,
   "id": "038d6ea6-bf6d-4202-91c9-1b85e9b48c9a",
   "metadata": {},
   "outputs": [],
   "source": [
    "from openai import OpenAI\n",
    "from prompts import colloquial_style_aug_sys_prompt\n",
    "from functools import cache\n",
    "\n",
    "import os\n",
    "import json\n",
    "from dotenv import load_dotenv\n",
    "load_dotenv()\n",
    "\n",
    "client = OpenAI(api_key=os.getenv(\"OPENAI_API_KEY\"))"
   ]
  },
  {
   "cell_type": "code",
   "execution_count": 2,
   "id": "93a09d3b-dec1-47d9-b432-9d966e4df562",
   "metadata": {},
   "outputs": [],
   "source": [
    "product_aug_sys_prompt = \"\"\"\\\n",
    "You are an AI assistant specializing in data augmentation tasks.\n",
    "Remember:\n",
    "1. Keep the core message and inquiry intact.\n",
    "2. For the given queries, modify them such that:\n",
    "   a) If the query mentions a general product category or could apply to multiple products, create variations using the specific products: smartphone, laptop, and washing machine.\n",
    "   b) If the query already mentions a specific product or is not related to product inquiries, leave it as is.\n",
    "   c) For the given query, if a certain product does not make sense to be included, then feel free to skip that product only.\n",
    "   d) Maintain the original tone, style, and level of formality of the query.\n",
    "3. Return the augmented queries in JSON format with the key \"customer_queries\".\n",
    "4. If the query cannot be augmented or the augmentation does not make sense or is not product-related, return null for \"customer_queries\".\n",
    "\n",
    "Examples:\n",
    "\n",
    "Example input 1:\n",
    "\"When will my order arrive? It's been a week since I placed it.\"\n",
    "\n",
    "Example output 1 in JSON format:\n",
    "{\n",
    "    \"customer_queries\": [\n",
    "        \"When will my smartphone arrive? It's been a week since I placed the order.\",\n",
    "        \"When will my laptop arrive? It's been a week since I placed the order.\",\n",
    "        \"When will my washing machine arrive? It's been a week since I placed the order.\"\n",
    "    ]\n",
    "}\n",
    "\n",
    "\n",
    "Example input 2:\n",
    "\"hey! quick question – is there a time limit for when i gotta report if i got the wrong item? i'd really appreciate your help!\"\n",
    "\n",
    "Example output 2 in JSON format:\n",
    "{\n",
    "    \"customer_queries\": [\n",
    "        \"hey! quick question – is there a time limit for when i gotta report if i got the wrong smartphone? i'd really appreciate your help!\",\n",
    "        \"hey! quick question – is there a time limit for when i gotta report if i got the wrong laptop? i'd really appreciate your help!\",\n",
    "        \"hey! quick question – is there a time limit for when i gotta report if i got the wrong washing machine? i'd really appreciate your help!\"\n",
    "    ]\n",
    "}\n",
    "\n",
    "Example input 3:\n",
    "\"Are there any exceptions to the types of items I can order if I want free shipping in the 4-hour window?\"\n",
    "\n",
    "Example output 3 in JSON format:\n",
    "{\n",
    "    \"customer_queries\": null\n",
    "}\n",
    "###\n",
    "\"\"\""
   ]
  },
  {
   "cell_type": "code",
   "execution_count": 3,
   "id": "0360f33d-0e54-465e-be90-e6d4f4c919aa",
   "metadata": {},
   "outputs": [],
   "source": [
    "augmentable = open(\"product_augmentable.txt\", 'r').readlines()\n",
    "augmentable = [a.strip() for a in augmentable]"
   ]
  },
  {
   "cell_type": "code",
   "execution_count": 4,
   "id": "7f272933-9391-4367-a87b-08e2326a62e2",
   "metadata": {},
   "outputs": [],
   "source": [
    "def augment_queries(queries: list[str]):\n",
    "    augmented = []\n",
    "    for query in queries:\n",
    "        res = client.chat.completions.create(\n",
    "            model=\"gpt-4o-mini\",\n",
    "            messages=[\n",
    "                {\"role\": \"system\", \"content\": product_aug_sys_prompt},\n",
    "                {\"role\": \"user\", \"content\": query},\n",
    "            ],\n",
    "            response_format={\"type\": \"json_object\"},\n",
    "        )\n",
    "        res = json.loads(res.choices[0].message.content)\n",
    "        if res[\"customer_queries\"]:\n",
    "            augmented.extend(res[\"customer_queries\"])\n",
    "\n",
    "    return augmented"
   ]
  },
  {
   "cell_type": "code",
   "execution_count": 5,
   "id": "ca992daa-55ed-4548-a3f7-601c5a25fe2c",
   "metadata": {},
   "outputs": [],
   "source": [
    "def persist(data: dict, file):\n",
    "    \"\"\"Persist data to the given file.\"\"\"\n",
    "    json.dump(data, file, ensure_ascii=False)\n",
    "    file.write('\\n')"
   ]
  },
  {
   "cell_type": "code",
   "execution_count": 6,
   "id": "440d983f-dc41-4db3-b847-fae1d8e4a7a8",
   "metadata": {},
   "outputs": [],
   "source": [
    "def main(query_file_name: str):\n",
    "    query_file = open(query_file_name, 'r')\n",
    "    data_file = open(\"product_aug.jsonl\", 'a')\n",
    "    augmented = []\n",
    "    for line in query_file:\n",
    "        temp = json.loads(line)\n",
    "        if not temp[\"title\"] in augmentable:\n",
    "            continue\n",
    "            \n",
    "        augmented = augment_queries(temp[\"customer_queries\"])\n",
    "        augmented = {\"customer_queries\": augmented}\n",
    "        augmented.update({\"title\": temp[\"title\"], \"tone\": temp[\"tone\"], \"style\": temp[\"style\"]})\n",
    "\n",
    "        persist(augmented, data_file)\n",
    "        break\n",
    "\n",
    "    query_file.close()\n",
    "    data_file.close()"
   ]
  },
  {
   "cell_type": "code",
   "execution_count": 7,
   "id": "75f120b1-09ba-464e-a566-9d754ec4ceef",
   "metadata": {},
   "outputs": [],
   "source": [
    "main(\"queries.jsonl\")"
   ]
  },
  {
   "cell_type": "code",
   "execution_count": null,
   "id": "44953973-3ecb-4889-828a-6bfbf0583445",
   "metadata": {},
   "outputs": [],
   "source": []
  }
 ],
 "metadata": {
  "kernelspec": {
   "display_name": "Python 3 (ipykernel)",
   "language": "python",
   "name": "python3"
  },
  "language_info": {
   "codemirror_mode": {
    "name": "ipython",
    "version": 3
   },
   "file_extension": ".py",
   "mimetype": "text/x-python",
   "name": "python",
   "nbconvert_exporter": "python",
   "pygments_lexer": "ipython3",
   "version": "3.12.6"
  }
 },
 "nbformat": 4,
 "nbformat_minor": 5
}
