{
 "cells": [
  {
   "cell_type": "code",
   "execution_count": 1,
   "id": "341c38d9-03e9-4eae-9728-6d6083abf8e0",
   "metadata": {},
   "outputs": [
    {
     "data": {
      "text/plain": [
       "True"
      ]
     },
     "execution_count": 1,
     "metadata": {},
     "output_type": "execute_result"
    }
   ],
   "source": [
    "from openai import OpenAI\n",
    "from prompts import typo_style_aug_sys_prompt\n",
    "from tqdm import tqdm\n",
    "\n",
    "import os\n",
    "import json\n",
    "from dotenv import load_dotenv\n",
    "load_dotenv()"
   ]
  },
  {
   "cell_type": "code",
   "execution_count": 2,
   "id": "10e79238-a107-46a0-a640-6eba72e1f03d",
   "metadata": {},
   "outputs": [],
   "source": [
    "client = OpenAI(api_key=os.getenv(\"OPENAI_API_KEY\"))"
   ]
  },
  {
   "cell_type": "code",
   "execution_count": 3,
   "id": "877808a5-500a-4d1c-9f45-f4646d2cf2bc",
   "metadata": {},
   "outputs": [],
   "source": [
    "def typos_augment(queries: dict[str, list[str]]):\n",
    "    res = client.chat.completions.create(\n",
    "        model=\"gpt-4o-mini\",\n",
    "        messages=[\n",
    "            {\"role\": \"system\", \"content\": typo_style_aug_sys_prompt},\n",
    "            {\"role\": \"user\", \"content\": json.dumps(queries, indent=4)},\n",
    "        ],\n",
    "        response_format={\"type\": \"json_object\"},\n",
    "    )\n",
    "    return res.choices[0].message.content"
   ]
  },
  {
   "cell_type": "code",
   "execution_count": 4,
   "id": "25facdd6-c7dc-4fb5-b40e-0519f4518cdd",
   "metadata": {},
   "outputs": [],
   "source": [
    "def persist(data: dict, file):\n",
    "    \"\"\"Persist data to the given file.\"\"\"\n",
    "    json.dump(data, file, ensure_ascii=False)\n",
    "    file.write('\\n')"
   ]
  },
  {
   "cell_type": "code",
   "execution_count": 5,
   "id": "a858deca-428b-485b-ad6a-a197d44a06d0",
   "metadata": {},
   "outputs": [],
   "source": [
    "def main(query_file_name: str):\n",
    "    query_file = open(query_file_name, 'r')\n",
    "    persist_file = open(\"typo.jsonl\", 'a')\n",
    "    for line in tqdm(query_file):\n",
    "        temp = json.loads(line)\n",
    "        queries = {\"customer_queries\": temp[\"customer_queries\"]}\n",
    "        typos = typos_augment(queries)\n",
    "        \n",
    "        typos = json.loads(typos)\n",
    "        typos.update({\"title\": temp[\"title\"], \"tone\": temp[\"tone\"], \"style\": \"typos\"})\n",
    "\n",
    "        persist(typos, persist_file)"
   ]
  },
  {
   "cell_type": "code",
   "execution_count": 6,
   "id": "fa3779d7-4f83-4a10-89cd-fc20513cddbd",
   "metadata": {},
   "outputs": [
    {
     "name": "stderr",
     "output_type": "stream",
     "text": [
      "132it [21:35,  9.81s/it]\n",
      "53it [04:22,  4.96s/it]\n",
      "13it [03:09, 14.59s/it]\n"
     ]
    }
   ],
   "source": [
    "main(\"tone_augmented.jsonl\")\n",
    "main(\"queries.jsonl\")\n",
    "main(\"product_aug.jsonl\")"
   ]
  },
  {
   "cell_type": "code",
   "execution_count": 7,
   "id": "e1a6ba7d-bfe5-467c-8bb5-b11526fd802a",
   "metadata": {},
   "outputs": [],
   "source": [
    "n = 0\n",
    "with open(\"typo.jsonl\", 'r') as f:\n",
    "    for json_str in f:\n",
    "        obj = json.loads(json_str)\n",
    "        n += len(obj['customer_queries'])"
   ]
  },
  {
   "cell_type": "code",
   "execution_count": 8,
   "id": "b730f14c-cf84-4dda-913b-f94d49095c71",
   "metadata": {},
   "outputs": [
    {
     "name": "stdout",
     "output_type": "stream",
     "text": [
      "3905\n"
     ]
    }
   ],
   "source": [
    "print(n)"
   ]
  },
  {
   "cell_type": "code",
   "execution_count": null,
   "id": "c8c0b7be-2e0c-4e73-b9f7-26b8943ca218",
   "metadata": {},
   "outputs": [],
   "source": []
  },
  {
   "cell_type": "code",
   "execution_count": null,
   "id": "f128571c-7a56-4b53-a666-5946c50d0608",
   "metadata": {},
   "outputs": [],
   "source": []
  }
 ],
 "metadata": {
  "kernelspec": {
   "display_name": "Python 3 (ipykernel)",
   "language": "python",
   "name": "python3"
  },
  "language_info": {
   "codemirror_mode": {
    "name": "ipython",
    "version": 3
   },
   "file_extension": ".py",
   "mimetype": "text/x-python",
   "name": "python",
   "nbconvert_exporter": "python",
   "pygments_lexer": "ipython3",
   "version": "3.12.7"
  }
 },
 "nbformat": 4,
 "nbformat_minor": 5
}
