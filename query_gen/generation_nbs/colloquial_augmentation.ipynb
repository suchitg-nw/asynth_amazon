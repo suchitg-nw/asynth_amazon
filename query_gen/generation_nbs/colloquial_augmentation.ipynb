{
 "cells": [
  {
   "cell_type": "code",
   "execution_count": 1,
   "id": "a16ee044-a514-4786-a448-d980a23c2466",
   "metadata": {},
   "outputs": [
    {
     "data": {
      "text/plain": [
       "True"
      ]
     },
     "execution_count": 1,
     "metadata": {},
     "output_type": "execute_result"
    }
   ],
   "source": [
    "from openai import OpenAI\n",
    "from prompts import colloquial_style_aug_sys_prompt\n",
    "from tqdm import tqdm\n",
    "\n",
    "import os\n",
    "import json\n",
    "from dotenv import load_dotenv\n",
    "load_dotenv()"
   ]
  },
  {
   "cell_type": "code",
   "execution_count": 2,
   "id": "98f1ef77-13fc-4f65-a2c5-4636d7fccfaa",
   "metadata": {},
   "outputs": [],
   "source": [
    "client = OpenAI(api_key=os.getenv(\"OPENAI_API_KEY\"))"
   ]
  },
  {
   "cell_type": "code",
   "execution_count": 1,
   "id": "617c3eca-09ab-4b7d-bf5d-406ba1c5bb7e",
   "metadata": {},
   "outputs": [],
   "source": [
    "def colloquial_augment(queries: dict[str, list[str]]):\n",
    "    \"\"\"Augment existing queries to adopt a colloquial language style.\"\"\"\n",
    "    res = client.chat.completions.create(\n",
    "        model=\"gpt-4o-mini\",\n",
    "        messages=[\n",
    "            {\"role\": \"system\", \"content\": colloquial_style_aug_sys_prompt},\n",
    "            {\"role\": \"user\", \"content\": json.dumps(queries, indent=4)},\n",
    "        ],\n",
    "        response_format={\"type\": \"json_object\"},\n",
    "    )\n",
    "    return res.choices[0].message.content"
   ]
  },
  {
   "cell_type": "code",
   "execution_count": 4,
   "id": "302df997-f15c-40ca-85e7-bc36f45c34fb",
   "metadata": {},
   "outputs": [],
   "source": [
    "def persist(data: dict, file):\n",
    "    \"\"\"Persist data to the given file.\"\"\"\n",
    "    json.dump(data, file, ensure_ascii=False)\n",
    "    file.write('\\n')"
   ]
  },
  {
   "cell_type": "code",
   "execution_count": 5,
   "id": "1e6b7b9b-8e48-4630-b713-ba336346d471",
   "metadata": {},
   "outputs": [],
   "source": [
    "def main(query_file_name: str):\n",
    "    query_file = open(query_file_name, 'r')\n",
    "    persist_file = open(\"colloquial.jsonl\", 'a')\n",
    "    for line in tqdm(query_file):\n",
    "        temp = json.loads(line)\n",
    "        queries = {\"customer_queries\": temp[\"customer_queries\"]}\n",
    "        colloquial = colloquial_augment(queries)\n",
    "        \n",
    "        colloquial = json.loads(colloquial)\n",
    "        colloquial.update({\"title\": temp[\"title\"], \"tone\": temp[\"tone\"], \"style\": \"colloquial\"})\n",
    "\n",
    "        persist(colloquial, persist_file)"
   ]
  },
  {
   "cell_type": "code",
   "execution_count": 6,
   "id": "1f83475f-76e3-4fe0-b7a8-6b2a0a8f1ddb",
   "metadata": {},
   "outputs": [
    {
     "name": "stderr",
     "output_type": "stream",
     "text": [
      "53it [03:31,  4.00s/it]\n",
      "13it [02:17, 10.57s/it]\n"
     ]
    }
   ],
   "source": [
    "main(\"queries.jsonl\")\n",
    "main(\"product_aug.jsonl\")"
   ]
  },
  {
   "cell_type": "code",
   "execution_count": 9,
   "id": "7f7a570a-f210-4973-be91-a29f54a7fc6d",
   "metadata": {},
   "outputs": [
    {
     "name": "stderr",
     "output_type": "stream",
     "text": [
      "132it [14:48,  6.73s/it]\n"
     ]
    }
   ],
   "source": [
    "main(\"tone_augmented.jsonl\")"
   ]
  },
  {
   "cell_type": "code",
   "execution_count": 12,
   "id": "dc3f4c64-f1d0-4d16-b060-1622ee3e633c",
   "metadata": {},
   "outputs": [],
   "source": [
    "n = 0\n",
    "with open(\"colloquial.jsonl\", 'r') as f:\n",
    "    for json_str in f:\n",
    "        obj = json.loads(json_str)\n",
    "        n += len(obj['customer_queries'])"
   ]
  },
  {
   "cell_type": "code",
   "execution_count": 13,
   "id": "41460e36-7261-498b-9d56-7894b83e6c01",
   "metadata": {},
   "outputs": [
    {
     "name": "stdout",
     "output_type": "stream",
     "text": [
      "3898\n"
     ]
    }
   ],
   "source": [
    "print(n)"
   ]
  },
  {
   "cell_type": "code",
   "execution_count": null,
   "id": "f5c4278d-3f86-4bdc-9260-af89219dcd7b",
   "metadata": {},
   "outputs": [],
   "source": []
  }
 ],
 "metadata": {
  "kernelspec": {
   "display_name": "Python 3 (ipykernel)",
   "language": "python",
   "name": "python3"
  },
  "language_info": {
   "codemirror_mode": {
    "name": "ipython",
    "version": 3
   },
   "file_extension": ".py",
   "mimetype": "text/x-python",
   "name": "python",
   "nbconvert_exporter": "python",
   "pygments_lexer": "ipython3",
   "version": "3.12.7"
  }
 },
 "nbformat": 4,
 "nbformat_minor": 5
}
