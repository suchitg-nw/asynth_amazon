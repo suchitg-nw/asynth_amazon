{
 "cells": [
  {
   "cell_type": "code",
   "execution_count": 1,
   "id": "1066abf0-99a5-4ad4-b9b0-505d743d5d66",
   "metadata": {},
   "outputs": [
    {
     "data": {
      "text/plain": [
       "True"
      ]
     },
     "execution_count": 1,
     "metadata": {},
     "output_type": "execute_result"
    }
   ],
   "source": [
    "from openai import OpenAI\n",
    "from prompts import non_native_style_aug_sys_prompt\n",
    "from tqdm import tqdm\n",
    "\n",
    "import os\n",
    "import json\n",
    "from dotenv import load_dotenv\n",
    "load_dotenv()"
   ]
  },
  {
   "cell_type": "code",
   "execution_count": 2,
   "id": "80a087fa-8978-49fa-be0b-9268509cd85a",
   "metadata": {},
   "outputs": [],
   "source": [
    "client = OpenAI(api_key=os.getenv(\"OPENAI_API_KEY\"))"
   ]
  },
  {
   "cell_type": "code",
   "execution_count": 1,
   "id": "6dc1e5cf-2623-41cd-af4e-0a534e753f06",
   "metadata": {},
   "outputs": [],
   "source": [
    "def non_native_augment(queries: dict[str, list[str]]):\n",
    "    \"\"\"Augment queries to mimic the language style of non-native English speakers.\"\"\"\n",
    "    res = client.chat.completions.create(\n",
    "        model=\"gpt-4o-mini\",\n",
    "        messages=[\n",
    "            {\"role\": \"system\", \"content\": non_native_style_aug_sys_prompt},\n",
    "            {\"role\": \"user\", \"content\": json.dumps(queries, indent=4)},\n",
    "        ],\n",
    "        response_format={\"type\": \"json_object\"},\n",
    "    )\n",
    "    return res.choices[0].message.content"
   ]
  },
  {
   "cell_type": "code",
   "execution_count": 4,
   "id": "4eb3f6cc-fb98-4911-a252-63f48566f1a1",
   "metadata": {},
   "outputs": [],
   "source": [
    "def persist(data: dict, file):\n",
    "    \"\"\"Persist data to the given file.\"\"\"\n",
    "    json.dump(data, file, ensure_ascii=False)\n",
    "    file.write('\\n')"
   ]
  },
  {
   "cell_type": "code",
   "execution_count": 5,
   "id": "97c09f4d-6ed5-43b2-93af-3eed8a8f3120",
   "metadata": {},
   "outputs": [],
   "source": [
    "def main(query_file_name: str):\n",
    "    query_file = open(query_file_name, 'r')\n",
    "    persist_file = open(\"non_native.jsonl\", 'a')\n",
    "    for line in tqdm(query_file):\n",
    "        temp = json.loads(line)\n",
    "        queries = {\"customer_queries\": temp[\"customer_queries\"]}\n",
    "        non_native = non_native_augment(queries)\n",
    "        \n",
    "        non_native = json.loads(non_native)\n",
    "        non_native.update({\"title\": temp[\"title\"], \"tone\": temp[\"tone\"], \"style\": \"non_native\"})\n",
    "\n",
    "        persist(non_native, persist_file)"
   ]
  },
  {
   "cell_type": "code",
   "execution_count": 6,
   "id": "5d4ddfaa-1ddd-4f73-acd0-803ad4db09f8",
   "metadata": {},
   "outputs": [
    {
     "name": "stderr",
     "output_type": "stream",
     "text": [
      "53it [03:38,  4.12s/it]\n",
      "13it [02:49, 13.02s/it]\n",
      "132it [17:52,  8.13s/it]\n"
     ]
    }
   ],
   "source": [
    "main(\"queries.jsonl\")\n",
    "main(\"product_aug.jsonl\")\n",
    "main(\"tone_augmented.jsonl\")"
   ]
  },
  {
   "cell_type": "code",
   "execution_count": 3,
   "id": "2165c155-a0f0-422b-bffe-f78b66842b92",
   "metadata": {},
   "outputs": [],
   "source": [
    "n = 0\n",
    "with open(\"../queries_data/non_native.jsonl\", 'r') as f:\n",
    "    for json_str in f:\n",
    "        obj = json.loads(json_str)\n",
    "        n += len(obj['customer_queries'])"
   ]
  },
  {
   "cell_type": "code",
   "execution_count": 4,
   "id": "67be31be-01c9-48ec-a4c1-340125c98fb4",
   "metadata": {},
   "outputs": [
    {
     "name": "stdout",
     "output_type": "stream",
     "text": [
      "3899\n"
     ]
    }
   ],
   "source": [
    "print(n)"
   ]
  },
  {
   "cell_type": "code",
   "execution_count": null,
   "id": "22487c5c-a3b6-4328-b815-30d39f3f15b9",
   "metadata": {},
   "outputs": [],
   "source": []
  }
 ],
 "metadata": {
  "kernelspec": {
   "display_name": "Python 3 (ipykernel)",
   "language": "python",
   "name": "python3"
  },
  "language_info": {
   "codemirror_mode": {
    "name": "ipython",
    "version": 3
   },
   "file_extension": ".py",
   "mimetype": "text/x-python",
   "name": "python",
   "nbconvert_exporter": "python",
   "pygments_lexer": "ipython3",
   "version": "3.12.7"
  }
 },
 "nbformat": 4,
 "nbformat_minor": 5
}
