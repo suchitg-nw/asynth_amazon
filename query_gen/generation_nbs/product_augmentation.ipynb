{
 "cells": [
  {
   "cell_type": "code",
   "execution_count": 1,
   "id": "038d6ea6-bf6d-4202-91c9-1b85e9b48c9a",
   "metadata": {},
   "outputs": [],
   "source": [
    "from openai import OpenAI\n",
    "from prompts import product_aug_sys_prompt\n",
    "from functools import cache\n",
    "from tqdm import tqdm\n",
    "\n",
    "import os\n",
    "import json\n",
    "from dotenv import load_dotenv\n",
    "load_dotenv()\n",
    "\n",
    "client = OpenAI(api_key=os.getenv(\"OPENAI_API_KEY\"))"
   ]
  },
  {
   "cell_type": "code",
   "execution_count": 2,
   "id": "0360f33d-0e54-465e-be90-e6d4f4c919aa",
   "metadata": {},
   "outputs": [],
   "source": [
    "# consider help categories where product substitution is applicable\n",
    "augmentable = open(\"product_augmentable.txt\", 'r').readlines()\n",
    "augmentable = [a.strip() for a in augmentable]"
   ]
  },
  {
   "cell_type": "code",
   "execution_count": 3,
   "id": "7f272933-9391-4367-a87b-08e2326a62e2",
   "metadata": {},
   "outputs": [],
   "source": [
    "def augment_queries(queries: list[str]):\n",
    "    augmented = []\n",
    "    for query in queries:\n",
    "        res = client.chat.completions.create(\n",
    "            model=\"gpt-4o-mini\",\n",
    "            messages=[\n",
    "                {\"role\": \"system\", \"content\": product_aug_sys_prompt},\n",
    "                {\"role\": \"user\", \"content\": query},\n",
    "            ],\n",
    "            response_format={\"type\": \"json_object\"},\n",
    "        )\n",
    "        res = json.loads(res.choices[0].message.content)\n",
    "        if res[\"customer_queries\"]:\n",
    "            augmented.extend(res[\"customer_queries\"])\n",
    "\n",
    "    return augmented"
   ]
  },
  {
   "cell_type": "code",
   "execution_count": 4,
   "id": "ca992daa-55ed-4548-a3f7-601c5a25fe2c",
   "metadata": {},
   "outputs": [],
   "source": [
    "def persist(data: dict, file):\n",
    "    \"\"\"Persist data to the given file.\"\"\"\n",
    "    json.dump(data, file, ensure_ascii=False)\n",
    "    file.write('\\n')"
   ]
  },
  {
   "cell_type": "code",
   "execution_count": 5,
   "id": "440d983f-dc41-4db3-b847-fae1d8e4a7a8",
   "metadata": {},
   "outputs": [],
   "source": [
    "def main(query_file_name: str):\n",
    "    query_file = open(query_file_name, 'r')\n",
    "    data_file = open(\"product_aug.jsonl\", 'a')\n",
    "    augmented = []\n",
    "    for line in tqdm(query_file):\n",
    "        temp = json.loads(line)\n",
    "        if not temp[\"title\"] in augmentable:\n",
    "            continue\n",
    "            \n",
    "        augmented = augment_queries(temp[\"customer_queries\"])\n",
    "        augmented = {\"customer_queries\": augmented}\n",
    "        augmented.update({\"title\": temp[\"title\"], \"tone\": temp[\"tone\"], \"style\": temp[\"style\"]})\n",
    "\n",
    "        persist(augmented, data_file)\n",
    "\n",
    "    query_file.close()\n",
    "    data_file.close()"
   ]
  },
  {
   "cell_type": "code",
   "execution_count": 6,
   "id": "75f120b1-09ba-464e-a566-9d754ec4ceef",
   "metadata": {},
   "outputs": [
    {
     "name": "stderr",
     "output_type": "stream",
     "text": [
      "53it [04:43,  5.36s/it]\n"
     ]
    }
   ],
   "source": [
    "main(\"queries.jsonl\")"
   ]
  },
  {
   "cell_type": "code",
   "execution_count": 7,
   "id": "44953973-3ecb-4889-828a-6bfbf0583445",
   "metadata": {},
   "outputs": [],
   "source": [
    "n = 0\n",
    "with open(\"product_aug.jsonl\", 'r') as f:\n",
    "    for json_str in f:\n",
    "        obj = json.loads(json_str)\n",
    "        n += len(obj['customer_queries'])"
   ]
  },
  {
   "cell_type": "code",
   "execution_count": 8,
   "id": "9cb737fb-089e-452b-ad53-61b08060fb0c",
   "metadata": {},
   "outputs": [
    {
     "name": "stdout",
     "output_type": "stream",
     "text": [
      "588\n"
     ]
    }
   ],
   "source": [
    "print(n)"
   ]
  },
  {
   "cell_type": "code",
   "execution_count": null,
   "id": "181639ad-392a-493d-8791-40f7fb2627a1",
   "metadata": {},
   "outputs": [],
   "source": []
  }
 ],
 "metadata": {
  "kernelspec": {
   "display_name": "Python 3 (ipykernel)",
   "language": "python",
   "name": "python3"
  },
  "language_info": {
   "codemirror_mode": {
    "name": "ipython",
    "version": 3
   },
   "file_extension": ".py",
   "mimetype": "text/x-python",
   "name": "python",
   "nbconvert_exporter": "python",
   "pygments_lexer": "ipython3",
   "version": "3.12.7"
  }
 },
 "nbformat": 4,
 "nbformat_minor": 5
}
