{
 "cells": [
  {
   "cell_type": "code",
   "execution_count": 1,
   "id": "7cfa014e-c506-45d8-8bee-f5750eb04cda",
   "metadata": {},
   "outputs": [],
   "source": [
    "import json\n",
    "import os\n",
    "import re\n",
    "from functools import cache\n",
    "from tqdm import tqdm\n",
    "\n",
    "from dotenv import load_dotenv\n",
    "from openai import OpenAI\n",
    "from prompts import sys_prompt"
   ]
  },
  {
   "cell_type": "code",
   "execution_count": 2,
   "id": "73a224b9-a3f2-4b20-843a-7cb851be129b",
   "metadata": {},
   "outputs": [],
   "source": [
    "intents = []\n",
    "for intent in os.listdir(\"/home/suchitg/amazon_help/leafdirs/\"):\n",
    "    if \"IssueWith\" not in intent:\n",
    "        intents.append(intent)"
   ]
  },
  {
   "cell_type": "code",
   "execution_count": 3,
   "id": "0d6f35c9-8a05-4cce-a44a-d032eb55d1d5",
   "metadata": {},
   "outputs": [
    {
     "data": {
      "text/plain": [
       "53"
      ]
     },
     "execution_count": 3,
     "metadata": {},
     "output_type": "execute_result"
    }
   ],
   "source": [
    "len(intents)"
   ]
  },
  {
   "cell_type": "code",
   "execution_count": 4,
   "id": "9009cdcd-ef99-449e-bce4-593ebd5c2f3e",
   "metadata": {},
   "outputs": [
    {
     "data": {
      "text/plain": [
       "65"
      ]
     },
     "execution_count": 4,
     "metadata": {},
     "output_type": "execute_result"
    }
   ],
   "source": [
    "len(os.listdir(\"/home/suchitg/amazon_help/leafdirs/\"))"
   ]
  },
  {
   "cell_type": "code",
   "execution_count": 5,
   "id": "f547dec7-9105-47df-a31a-0f2074952a3a",
   "metadata": {},
   "outputs": [],
   "source": [
    "load_dotenv()\n",
    "client = OpenAI(api_key=os.getenv(\"OPENAI_API_KEY\"))"
   ]
  },
  {
   "cell_type": "code",
   "execution_count": 6,
   "id": "f7460131-e6aa-4106-8aa9-1c1a11dd9e57",
   "metadata": {},
   "outputs": [],
   "source": [
    "usr_prompts = []\n",
    "for intent in intents:\n",
    "    guidelines = open(f\"/home/suchitg/amazon_help/leafdirs/{intent}/t.txt\", \"r\").read()\n",
    "    num_lines = len(open(f\"/home/suchitg/amazon_help/leafdirs/{intent}/t.txt\", \"r\").readlines())\n",
    "    usr_prompts.append((\n",
    "        f\"\"\"{{\n",
    "    \"title\": \"{intent}\",\n",
    "    \"content\": '''{guidelines}\\n'''\n",
    "}}\"\"\", num_lines))\n"
   ]
  },
  {
   "cell_type": "code",
   "execution_count": 7,
   "id": "4c66f1db-a556-4b17-97d7-587946dbbbe3",
   "metadata": {},
   "outputs": [],
   "source": [
    "def generate_queries(usr_prompt: tuple[str, int]):\n",
    "    \"\"\"Generate customer queries for the given intent and its guidelines.\"\"\"\n",
    "    res = client.chat.completions.create(\n",
    "        model=\"gpt-4o-mini\",\n",
    "        messages=[\n",
    "            # generate 10 queries if ground guideline document has > 15 lines\n",
    "            # 5 otherwise\n",
    "            {\"role\": \"system\", \"content\": sys_prompt.format(num_queries=15 if usr_prompt[1] > 15 else 7)},\n",
    "            {\"role\": \"user\", \"content\": usr_prompt[0]},\n",
    "        ],\n",
    "        response_format={\"type\": \"json_object\"},\n",
    "    )\n",
    "    return res.choices[0].message.content\n"
   ]
  },
  {
   "cell_type": "code",
   "execution_count": 8,
   "id": "3fcad8ce-4595-4520-8ec8-5257fee835da",
   "metadata": {},
   "outputs": [],
   "source": [
    "def remove_numbers(queries_obj: dict):\n",
    "    \"\"\"Remove numbers from the start of the queries.\"\"\"\n",
    "    updated = {\n",
    "        k: [re.sub(r\"^\\d+\\.\\s\", \"\", i) for i in v]\n",
    "        for k, v in queries_obj.items()\n",
    "        if k == \"customer_queries\"\n",
    "    }\n",
    "    queries_obj[\"customer_queries\"] = updated[\"customer_queries\"]"
   ]
  },
  {
   "cell_type": "code",
   "execution_count": 9,
   "id": "43979350-9f6f-4c59-8d05-b314d9470cc5",
   "metadata": {},
   "outputs": [],
   "source": [
    "def main():\n",
    "    f = open(\"./queries.jsonl\", \"a\")\n",
    "    for prompt in tqdm(usr_prompts):\n",
    "        res = generate_queries(prompt)\n",
    "        \n",
    "        queries_obj = json.loads(res)\n",
    "        queries_obj[\"tone\"] = \"neutral\"\n",
    "        queries_obj[\"style\"] = \"regular\"\n",
    "\n",
    "        json.dump(queries_obj, f, ensure_ascii=False)\n",
    "        f.write(\"\\n\")\n",
    "    f.close()"
   ]
  },
  {
   "cell_type": "code",
   "execution_count": 10,
   "id": "7f47d6ff-4790-4208-aba4-e171f0203fc8",
   "metadata": {},
   "outputs": [
    {
     "name": "stderr",
     "output_type": "stream",
     "text": [
      "100%|█████████████████████████████████████████████████████████████████████████████████████████████████████████████████████████████████████████| 53/53 [03:53<00:00,  4.41s/it]\n"
     ]
    }
   ],
   "source": [
    "main()"
   ]
  },
  {
   "cell_type": "code",
   "execution_count": 11,
   "id": "f0647665-5596-4551-8ebb-aa88e7bf4396",
   "metadata": {},
   "outputs": [],
   "source": [
    "n = 0\n",
    "with open(\"queries.jsonl\", 'r') as f:\n",
    "    for json_str in f:\n",
    "        obj = json.loads(json_str)\n",
    "        n += len(obj['customer_queries'])"
   ]
  },
  {
   "cell_type": "code",
   "execution_count": 12,
   "id": "86f08af3-1c78-4c73-a3e9-dfbece4f1a17",
   "metadata": {},
   "outputs": [
    {
     "name": "stdout",
     "output_type": "stream",
     "text": [
      "715\n"
     ]
    }
   ],
   "source": [
    "print(n)"
   ]
  },
  {
   "cell_type": "code",
   "execution_count": null,
   "id": "e0353244-18e6-424e-adb6-4cc645fef01b",
   "metadata": {},
   "outputs": [],
   "source": []
  }
 ],
 "metadata": {
  "kernelspec": {
   "display_name": "Python 3 (ipykernel)",
   "language": "python",
   "name": "python3"
  },
  "language_info": {
   "codemirror_mode": {
    "name": "ipython",
    "version": 3
   },
   "file_extension": ".py",
   "mimetype": "text/x-python",
   "name": "python",
   "nbconvert_exporter": "python",
   "pygments_lexer": "ipython3",
   "version": "3.12.7"
  }
 },
 "nbformat": 4,
 "nbformat_minor": 5
}
