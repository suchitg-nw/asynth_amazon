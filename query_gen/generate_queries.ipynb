{
 "cells": [
  {
   "cell_type": "code",
   "execution_count": 1,
   "id": "7cfa014e-c506-45d8-8bee-f5750eb04cda",
   "metadata": {},
   "outputs": [],
   "source": [
    "import json\n",
    "import os\n",
    "import re\n",
    "from functools import cache\n",
    "\n",
    "from dotenv import load_dotenv\n",
    "from openai import OpenAI\n",
    "from prompts import sys_prompt"
   ]
  },
  {
   "cell_type": "code",
   "execution_count": 2,
   "id": "f547dec7-9105-47df-a31a-0f2074952a3a",
   "metadata": {},
   "outputs": [],
   "source": [
    "load_dotenv()\n",
    "client = OpenAI(api_key=os.getenv(\"OPENAI_API_KEY\"))\n",
    "\n",
    "intents = [\"AboutExchanges\", \"DamagedDefectiveOrWrongProductFAQ\"]"
   ]
  },
  {
   "cell_type": "code",
   "execution_count": 3,
   "id": "f7460131-e6aa-4106-8aa9-1c1a11dd9e57",
   "metadata": {},
   "outputs": [],
   "source": [
    "usr_prompts = []\n",
    "for intent in intents:\n",
    "    guidelines = open(f\"/home/suchitg/amazon_help/leafdirs/{intent}/t.txt\", \"r\").read()\n",
    "    usr_prompts.append(\n",
    "        f\"\"\"{{\n",
    "    \"title\": \"{intent}\",\n",
    "    \"content\": '''{guidelines}\\n'''\n",
    "}}\"\"\"\n",
    "    )\n"
   ]
  },
  {
   "cell_type": "code",
   "execution_count": 4,
   "id": "4c66f1db-a556-4b17-97d7-587946dbbbe3",
   "metadata": {},
   "outputs": [],
   "source": [
    "def generate_queries(usr_prompt: str):\n",
    "    \"\"\"Generate customer queries for the given intent and its guidelines.\"\"\"\n",
    "    res = client.chat.completions.create(\n",
    "        model=\"gpt-4o-mini\",\n",
    "        messages=[\n",
    "            {\"role\": \"system\", \"content\": sys_prompt},\n",
    "            {\"role\": \"user\", \"content\": usr_prompt},\n",
    "        ],\n",
    "        response_format={\"type\": \"json_object\"},\n",
    "    )\n",
    "    return res.choices[0].message.content\n"
   ]
  },
  {
   "cell_type": "code",
   "execution_count": 5,
   "id": "c3a80197-7ad5-4b04-82f3-75d05a5ff86e",
   "metadata": {},
   "outputs": [],
   "source": [
    "def remove_numbers(queries_obj: dict):\n",
    "    \"\"\"Remove numbers from the start of the queries.\"\"\"\n",
    "    updated = {\n",
    "        k: [re.sub(r\"^\\d+\\.\\s\", \"\", i) for i in v]\n",
    "        for k, v in queries_obj.items()\n",
    "        if k == \"customer_queries\"\n",
    "    }\n",
    "    queries_obj[\"customer_queries\"] = updated[\"customer_queries\"]\n",
    "\n",
    "\n",
    "with open(\"./queries.jsonl\", \"a\") as f:\n",
    "    for prompt in usr_prompts:\n",
    "        res = generate_queries(prompt)\n",
    "        \n",
    "        queries_obj = json.loads(res)\n",
    "        queries_obj[\"tone\"] = \"neutral\"\n",
    "        queries_obj[\"style\"] = \"regular\"\n",
    "        \n",
    "        json.dump(queries_obj, f)\n",
    "        f.write(\"\\n\")\n"
   ]
  },
  {
   "cell_type": "code",
   "execution_count": null,
   "id": "ae83547d-6b4d-4a00-81bf-33c2854119d0",
   "metadata": {},
   "outputs": [],
   "source": []
  }
 ],
 "metadata": {
  "kernelspec": {
   "display_name": "Python 3 (ipykernel)",
   "language": "python",
   "name": "python3"
  },
  "language_info": {
   "codemirror_mode": {
    "name": "ipython",
    "version": 3
   },
   "file_extension": ".py",
   "mimetype": "text/x-python",
   "name": "python",
   "nbconvert_exporter": "python",
   "pygments_lexer": "ipython3",
   "version": "3.12.6"
  }
 },
 "nbformat": 4,
 "nbformat_minor": 5
}
