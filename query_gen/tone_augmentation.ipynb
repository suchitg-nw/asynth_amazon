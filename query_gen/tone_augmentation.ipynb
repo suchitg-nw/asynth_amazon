{
 "cells": [
  {
   "cell_type": "code",
   "execution_count": 1,
   "id": "72770241-fcaf-4c03-aadf-569d9beaa2c8",
   "metadata": {},
   "outputs": [
    {
     "data": {
      "text/plain": [
       "True"
      ]
     },
     "execution_count": 1,
     "metadata": {},
     "output_type": "execute_result"
    }
   ],
   "source": [
    "from openai import OpenAI\n",
    "from typing import Literal\n",
    "from prompts import cheerful_tone_aug_sys_prompt, annoyed_tone_aug_sys_prompt\n",
    "from functools import cache\n",
    "\n",
    "import os\n",
    "import json\n",
    "from dotenv import load_dotenv\n",
    "load_dotenv()"
   ]
  },
  {
   "cell_type": "code",
   "execution_count": 2,
   "id": "3968bd9a-4095-48a0-bcaf-73bfcb1d9e38",
   "metadata": {},
   "outputs": [],
   "source": [
    "client = OpenAI(api_key=os.getenv(\"OPENAI_API_KEY\"))"
   ]
  },
  {
   "cell_type": "code",
   "execution_count": 3,
   "id": "3d44fc83-6b96-48ab-9d28-683d3e81ed79",
   "metadata": {},
   "outputs": [],
   "source": [
    "# @cache\n",
    "def augment_queries(queries: dict[str, list[str]], tone: Literal[\"cheerful\", \"annoyed\"]):\n",
    "    \"\"\"Given a list of queries and the required tone, generate the augmented queries.\"\"\"\n",
    "    sys_prompt = {\n",
    "        \"cheerful\": cheerful_tone_aug_sys_prompt,\n",
    "        \"annoyed\": annoyed_tone_aug_sys_prompt\n",
    "    }[tone]\n",
    "    res = client.chat.completions.create(\n",
    "        model=\"gpt-4o-mini\",\n",
    "        messages=[\n",
    "            {\"role\": \"system\", \"content\": sys_prompt},\n",
    "            {\"role\": \"user\", \"content\": json.dumps(queries, indent=4)},\n",
    "        ],\n",
    "        response_format={\"type\": \"json_object\"},\n",
    "    )\n",
    "    return res.choices[0].message.content\n"
   ]
  },
  {
   "cell_type": "code",
   "execution_count": 4,
   "id": "aa7624e1-2ec9-43c3-99a6-18cd3776d8c1",
   "metadata": {},
   "outputs": [],
   "source": [
    "def persist(data: dict, file):\n",
    "    \"\"\"Persist data to the given file.\"\"\"\n",
    "    json.dump(data, file, ensure_ascii=False)\n",
    "    file.write('\\n')"
   ]
  },
  {
   "cell_type": "code",
   "execution_count": 7,
   "id": "2d4e94f3-9aa4-4d41-8f3c-91152c8a169a",
   "metadata": {},
   "outputs": [],
   "source": [
    "def main():\n",
    "    query_file = open(\"queries.jsonl\", 'r')\n",
    "    persist_file = open(\"tone_augmented.jsonl\", 'a')\n",
    "    for line in query_file:\n",
    "        temp = json.loads(line)\n",
    "        queries = {\"customer_queries\": temp[\"customer_queries\"]}\n",
    "        \n",
    "        cheerful = augment_queries(queries, \"cheerful\")\n",
    "        annoyed = augment_queries(queries, \"annoyed\")\n",
    "        \n",
    "        cheerful = json.loads(cheerful)\n",
    "        annoyed = json.loads(annoyed)\n",
    "        \n",
    "        cheerful.update({\"title\": temp[\"title\"], \"tone\": \"cheerful\", \"style\": temp[\"style\"]})\n",
    "        annoyed.update({\"title\": temp[\"title\"], \"tone\": \"annoyed\", \"style\": temp[\"style\"]})\n",
    "\n",
    "        persist(cheerful, persist_file)\n",
    "        persist(annoyed, persist_file)\n",
    "\n",
    "    query_file.close()\n",
    "    persist_file.close()"
   ]
  },
  {
   "cell_type": "code",
   "execution_count": 8,
   "id": "e364e448-c907-43d1-af91-ac81d28ced36",
   "metadata": {},
   "outputs": [],
   "source": [
    "main()"
   ]
  },
  {
   "cell_type": "code",
   "execution_count": null,
   "id": "757d82f3-2f58-4b3a-9bbc-f059de0b7da7",
   "metadata": {},
   "outputs": [],
   "source": []
  }
 ],
 "metadata": {
  "kernelspec": {
   "display_name": "Python 3 (ipykernel)",
   "language": "python",
   "name": "python3"
  },
  "language_info": {
   "codemirror_mode": {
    "name": "ipython",
    "version": 3
   },
   "file_extension": ".py",
   "mimetype": "text/x-python",
   "name": "python",
   "nbconvert_exporter": "python",
   "pygments_lexer": "ipython3",
   "version": "3.12.6"
  }
 },
 "nbformat": 4,
 "nbformat_minor": 5
}
