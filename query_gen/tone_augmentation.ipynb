{
 "cells": [
  {
   "cell_type": "code",
   "execution_count": 1,
   "id": "72770241-fcaf-4c03-aadf-569d9beaa2c8",
   "metadata": {},
   "outputs": [
    {
     "data": {
      "text/plain": [
       "True"
      ]
     },
     "execution_count": 1,
     "metadata": {},
     "output_type": "execute_result"
    }
   ],
   "source": [
    "from openai import OpenAI\n",
    "from prompts import cheerful_tone_aug_sys_prompt\n",
    "from functools import cache\n",
    "\n",
    "import os\n",
    "import json\n",
    "from dotenv import load_dotenv\n",
    "load_dotenv()"
   ]
  },
  {
   "cell_type": "code",
   "execution_count": 2,
   "id": "3968bd9a-4095-48a0-bcaf-73bfcb1d9e38",
   "metadata": {},
   "outputs": [],
   "source": [
    "client = OpenAI(api_key=os.getenv(\"OPENAI_API_KEY\"))"
   ]
  },
  {
   "cell_type": "markdown",
   "id": "f469885e-061f-4847-bad2-27c1b5129f66",
   "metadata": {},
   "source": [
    "### TODO:\n",
    "- for each query generate: colloquial and annoyed versions\n",
    "- save the newly generated queries alongside the original queries"
   ]
  },
  {
   "cell_type": "code",
   "execution_count": 3,
   "id": "3d44fc83-6b96-48ab-9d28-683d3e81ed79",
   "metadata": {},
   "outputs": [],
   "source": [
    "# @cache\n",
    "def generate_cheerful(queries: dict[str, list[str]]):\n",
    "    res = client.chat.completions.create(\n",
    "        model=\"gpt-4o-mini\",\n",
    "        messages=[\n",
    "            {\"role\": \"system\", \"content\": cheerful_tone_aug_sys_prompt},\n",
    "            {\"role\": \"user\", \"content\": json.dumps(queries, indent=4)},\n",
    "        ],\n",
    "        response_format={\"type\": \"json_object\"},\n",
    "    )\n",
    "    return res.choices[0].message.content\n"
   ]
  },
  {
   "cell_type": "code",
   "execution_count": 4,
   "id": "2d4e94f3-9aa4-4d41-8f3c-91152c8a169a",
   "metadata": {},
   "outputs": [],
   "source": [
    "with open(\"queries.jsonl\", 'r') as file:\n",
    "    cheerful_queries = []\n",
    "    for line in file:\n",
    "        queries = json.loads(line)\n",
    "        queries = {\"customer_queries\": queries[\"customer_queries\"]}\n",
    "        res = generate_cheerful(queries)\n",
    "        res = json.loads(res)\n",
    "        res.update({\"tone\": \"cheerful\"})\n",
    "        cheerful_queries.append(res)"
   ]
  },
  {
   "cell_type": "code",
   "execution_count": 5,
   "id": "0d774ead-29cf-4528-b5ad-5c15f7a25c9f",
   "metadata": {},
   "outputs": [],
   "source": [
    "with open(\"queries.jsonl\", 'a') as file:\n",
    "    for query in cheerful_queries:\n",
    "        json.dump(query, file, ensure_ascii=False)\n",
    "        file.write('\\n')"
   ]
  },
  {
   "cell_type": "code",
   "execution_count": null,
   "id": "eef12651-a0b3-4204-ba3f-a5b9ae1be01e",
   "metadata": {},
   "outputs": [],
   "source": []
  },
  {
   "cell_type": "code",
   "execution_count": null,
   "id": "046f95b0-01b2-4c79-90af-bb0faf63c2b4",
   "metadata": {},
   "outputs": [],
   "source": []
  }
 ],
 "metadata": {
  "kernelspec": {
   "display_name": "Python 3 (ipykernel)",
   "language": "python",
   "name": "python3"
  },
  "language_info": {
   "codemirror_mode": {
    "name": "ipython",
    "version": 3
   },
   "file_extension": ".py",
   "mimetype": "text/x-python",
   "name": "python",
   "nbconvert_exporter": "python",
   "pygments_lexer": "ipython3",
   "version": "3.12.6"
  }
 },
 "nbformat": 4,
 "nbformat_minor": 5
}
